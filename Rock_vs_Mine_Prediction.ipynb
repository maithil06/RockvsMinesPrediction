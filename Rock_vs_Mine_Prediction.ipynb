{
  "nbformat": 4,
  "nbformat_minor": 0,
  "metadata": {
    "colab": {
      "name": "Rock vs Mine Prediction",
      "provenance": [],
      "collapsed_sections": []
    },
    "kernelspec": {
      "name": "python3",
      "display_name": "Python 3"
    },
    "language_info": {
      "name": "python"
    }
  },
  "cells": [
    {
      "cell_type": "code",
      "execution_count": 1,
      "metadata": {
        "id": "46hhGU21FLt2"
      },
      "outputs": [],
      "source": [
        "import numpy as np\n",
        "import pandas as pd\n",
        "import seaborn as sns\n",
        "import matplotlib.pyplot as plt\n",
        "import matplotlib\n",
        "matplotlib.rcParams['figure.figsize'] = (12,8)"
      ]
    },
    {
      "cell_type": "code",
      "source": [
        "df = pd.read_csv('Copy of sonar data.csv',header = None)\n",
        "df"
      ],
      "metadata": {
        "colab": {
          "base_uri": "https://localhost:8080/",
          "height": 488
        },
        "id": "m2rTKc9bORo9",
        "outputId": "5aa40ad9-c182-43b6-f071-a1b800d6ec9c"
      },
      "execution_count": 2,
      "outputs": [
        {
          "output_type": "execute_result",
          "data": {
            "text/plain": [
              "         0       1       2       3       4       5       6       7       8   \\\n",
              "0    0.0200  0.0371  0.0428  0.0207  0.0954  0.0986  0.1539  0.1601  0.3109   \n",
              "1    0.0453  0.0523  0.0843  0.0689  0.1183  0.2583  0.2156  0.3481  0.3337   \n",
              "2    0.0262  0.0582  0.1099  0.1083  0.0974  0.2280  0.2431  0.3771  0.5598   \n",
              "3    0.0100  0.0171  0.0623  0.0205  0.0205  0.0368  0.1098  0.1276  0.0598   \n",
              "4    0.0762  0.0666  0.0481  0.0394  0.0590  0.0649  0.1209  0.2467  0.3564   \n",
              "..      ...     ...     ...     ...     ...     ...     ...     ...     ...   \n",
              "203  0.0187  0.0346  0.0168  0.0177  0.0393  0.1630  0.2028  0.1694  0.2328   \n",
              "204  0.0323  0.0101  0.0298  0.0564  0.0760  0.0958  0.0990  0.1018  0.1030   \n",
              "205  0.0522  0.0437  0.0180  0.0292  0.0351  0.1171  0.1257  0.1178  0.1258   \n",
              "206  0.0303  0.0353  0.0490  0.0608  0.0167  0.1354  0.1465  0.1123  0.1945   \n",
              "207  0.0260  0.0363  0.0136  0.0272  0.0214  0.0338  0.0655  0.1400  0.1843   \n",
              "\n",
              "         9   ...      51      52      53      54      55      56      57  \\\n",
              "0    0.2111  ...  0.0027  0.0065  0.0159  0.0072  0.0167  0.0180  0.0084   \n",
              "1    0.2872  ...  0.0084  0.0089  0.0048  0.0094  0.0191  0.0140  0.0049   \n",
              "2    0.6194  ...  0.0232  0.0166  0.0095  0.0180  0.0244  0.0316  0.0164   \n",
              "3    0.1264  ...  0.0121  0.0036  0.0150  0.0085  0.0073  0.0050  0.0044   \n",
              "4    0.4459  ...  0.0031  0.0054  0.0105  0.0110  0.0015  0.0072  0.0048   \n",
              "..      ...  ...     ...     ...     ...     ...     ...     ...     ...   \n",
              "203  0.2684  ...  0.0116  0.0098  0.0199  0.0033  0.0101  0.0065  0.0115   \n",
              "204  0.2154  ...  0.0061  0.0093  0.0135  0.0063  0.0063  0.0034  0.0032   \n",
              "205  0.2529  ...  0.0160  0.0029  0.0051  0.0062  0.0089  0.0140  0.0138   \n",
              "206  0.2354  ...  0.0086  0.0046  0.0126  0.0036  0.0035  0.0034  0.0079   \n",
              "207  0.2354  ...  0.0146  0.0129  0.0047  0.0039  0.0061  0.0040  0.0036   \n",
              "\n",
              "         58      59  60  \n",
              "0    0.0090  0.0032   R  \n",
              "1    0.0052  0.0044   R  \n",
              "2    0.0095  0.0078   R  \n",
              "3    0.0040  0.0117   R  \n",
              "4    0.0107  0.0094   R  \n",
              "..      ...     ...  ..  \n",
              "203  0.0193  0.0157   M  \n",
              "204  0.0062  0.0067   M  \n",
              "205  0.0077  0.0031   M  \n",
              "206  0.0036  0.0048   M  \n",
              "207  0.0061  0.0115   M  \n",
              "\n",
              "[208 rows x 61 columns]"
            ],
            "text/html": [
              "\n",
              "  <div id=\"df-43a5aa61-dd46-4def-9083-a1bab8e1d6f6\">\n",
              "    <div class=\"colab-df-container\">\n",
              "      <div>\n",
              "<style scoped>\n",
              "    .dataframe tbody tr th:only-of-type {\n",
              "        vertical-align: middle;\n",
              "    }\n",
              "\n",
              "    .dataframe tbody tr th {\n",
              "        vertical-align: top;\n",
              "    }\n",
              "\n",
              "    .dataframe thead th {\n",
              "        text-align: right;\n",
              "    }\n",
              "</style>\n",
              "<table border=\"1\" class=\"dataframe\">\n",
              "  <thead>\n",
              "    <tr style=\"text-align: right;\">\n",
              "      <th></th>\n",
              "      <th>0</th>\n",
              "      <th>1</th>\n",
              "      <th>2</th>\n",
              "      <th>3</th>\n",
              "      <th>4</th>\n",
              "      <th>5</th>\n",
              "      <th>6</th>\n",
              "      <th>7</th>\n",
              "      <th>8</th>\n",
              "      <th>9</th>\n",
              "      <th>...</th>\n",
              "      <th>51</th>\n",
              "      <th>52</th>\n",
              "      <th>53</th>\n",
              "      <th>54</th>\n",
              "      <th>55</th>\n",
              "      <th>56</th>\n",
              "      <th>57</th>\n",
              "      <th>58</th>\n",
              "      <th>59</th>\n",
              "      <th>60</th>\n",
              "    </tr>\n",
              "  </thead>\n",
              "  <tbody>\n",
              "    <tr>\n",
              "      <th>0</th>\n",
              "      <td>0.0200</td>\n",
              "      <td>0.0371</td>\n",
              "      <td>0.0428</td>\n",
              "      <td>0.0207</td>\n",
              "      <td>0.0954</td>\n",
              "      <td>0.0986</td>\n",
              "      <td>0.1539</td>\n",
              "      <td>0.1601</td>\n",
              "      <td>0.3109</td>\n",
              "      <td>0.2111</td>\n",
              "      <td>...</td>\n",
              "      <td>0.0027</td>\n",
              "      <td>0.0065</td>\n",
              "      <td>0.0159</td>\n",
              "      <td>0.0072</td>\n",
              "      <td>0.0167</td>\n",
              "      <td>0.0180</td>\n",
              "      <td>0.0084</td>\n",
              "      <td>0.0090</td>\n",
              "      <td>0.0032</td>\n",
              "      <td>R</td>\n",
              "    </tr>\n",
              "    <tr>\n",
              "      <th>1</th>\n",
              "      <td>0.0453</td>\n",
              "      <td>0.0523</td>\n",
              "      <td>0.0843</td>\n",
              "      <td>0.0689</td>\n",
              "      <td>0.1183</td>\n",
              "      <td>0.2583</td>\n",
              "      <td>0.2156</td>\n",
              "      <td>0.3481</td>\n",
              "      <td>0.3337</td>\n",
              "      <td>0.2872</td>\n",
              "      <td>...</td>\n",
              "      <td>0.0084</td>\n",
              "      <td>0.0089</td>\n",
              "      <td>0.0048</td>\n",
              "      <td>0.0094</td>\n",
              "      <td>0.0191</td>\n",
              "      <td>0.0140</td>\n",
              "      <td>0.0049</td>\n",
              "      <td>0.0052</td>\n",
              "      <td>0.0044</td>\n",
              "      <td>R</td>\n",
              "    </tr>\n",
              "    <tr>\n",
              "      <th>2</th>\n",
              "      <td>0.0262</td>\n",
              "      <td>0.0582</td>\n",
              "      <td>0.1099</td>\n",
              "      <td>0.1083</td>\n",
              "      <td>0.0974</td>\n",
              "      <td>0.2280</td>\n",
              "      <td>0.2431</td>\n",
              "      <td>0.3771</td>\n",
              "      <td>0.5598</td>\n",
              "      <td>0.6194</td>\n",
              "      <td>...</td>\n",
              "      <td>0.0232</td>\n",
              "      <td>0.0166</td>\n",
              "      <td>0.0095</td>\n",
              "      <td>0.0180</td>\n",
              "      <td>0.0244</td>\n",
              "      <td>0.0316</td>\n",
              "      <td>0.0164</td>\n",
              "      <td>0.0095</td>\n",
              "      <td>0.0078</td>\n",
              "      <td>R</td>\n",
              "    </tr>\n",
              "    <tr>\n",
              "      <th>3</th>\n",
              "      <td>0.0100</td>\n",
              "      <td>0.0171</td>\n",
              "      <td>0.0623</td>\n",
              "      <td>0.0205</td>\n",
              "      <td>0.0205</td>\n",
              "      <td>0.0368</td>\n",
              "      <td>0.1098</td>\n",
              "      <td>0.1276</td>\n",
              "      <td>0.0598</td>\n",
              "      <td>0.1264</td>\n",
              "      <td>...</td>\n",
              "      <td>0.0121</td>\n",
              "      <td>0.0036</td>\n",
              "      <td>0.0150</td>\n",
              "      <td>0.0085</td>\n",
              "      <td>0.0073</td>\n",
              "      <td>0.0050</td>\n",
              "      <td>0.0044</td>\n",
              "      <td>0.0040</td>\n",
              "      <td>0.0117</td>\n",
              "      <td>R</td>\n",
              "    </tr>\n",
              "    <tr>\n",
              "      <th>4</th>\n",
              "      <td>0.0762</td>\n",
              "      <td>0.0666</td>\n",
              "      <td>0.0481</td>\n",
              "      <td>0.0394</td>\n",
              "      <td>0.0590</td>\n",
              "      <td>0.0649</td>\n",
              "      <td>0.1209</td>\n",
              "      <td>0.2467</td>\n",
              "      <td>0.3564</td>\n",
              "      <td>0.4459</td>\n",
              "      <td>...</td>\n",
              "      <td>0.0031</td>\n",
              "      <td>0.0054</td>\n",
              "      <td>0.0105</td>\n",
              "      <td>0.0110</td>\n",
              "      <td>0.0015</td>\n",
              "      <td>0.0072</td>\n",
              "      <td>0.0048</td>\n",
              "      <td>0.0107</td>\n",
              "      <td>0.0094</td>\n",
              "      <td>R</td>\n",
              "    </tr>\n",
              "    <tr>\n",
              "      <th>...</th>\n",
              "      <td>...</td>\n",
              "      <td>...</td>\n",
              "      <td>...</td>\n",
              "      <td>...</td>\n",
              "      <td>...</td>\n",
              "      <td>...</td>\n",
              "      <td>...</td>\n",
              "      <td>...</td>\n",
              "      <td>...</td>\n",
              "      <td>...</td>\n",
              "      <td>...</td>\n",
              "      <td>...</td>\n",
              "      <td>...</td>\n",
              "      <td>...</td>\n",
              "      <td>...</td>\n",
              "      <td>...</td>\n",
              "      <td>...</td>\n",
              "      <td>...</td>\n",
              "      <td>...</td>\n",
              "      <td>...</td>\n",
              "      <td>...</td>\n",
              "    </tr>\n",
              "    <tr>\n",
              "      <th>203</th>\n",
              "      <td>0.0187</td>\n",
              "      <td>0.0346</td>\n",
              "      <td>0.0168</td>\n",
              "      <td>0.0177</td>\n",
              "      <td>0.0393</td>\n",
              "      <td>0.1630</td>\n",
              "      <td>0.2028</td>\n",
              "      <td>0.1694</td>\n",
              "      <td>0.2328</td>\n",
              "      <td>0.2684</td>\n",
              "      <td>...</td>\n",
              "      <td>0.0116</td>\n",
              "      <td>0.0098</td>\n",
              "      <td>0.0199</td>\n",
              "      <td>0.0033</td>\n",
              "      <td>0.0101</td>\n",
              "      <td>0.0065</td>\n",
              "      <td>0.0115</td>\n",
              "      <td>0.0193</td>\n",
              "      <td>0.0157</td>\n",
              "      <td>M</td>\n",
              "    </tr>\n",
              "    <tr>\n",
              "      <th>204</th>\n",
              "      <td>0.0323</td>\n",
              "      <td>0.0101</td>\n",
              "      <td>0.0298</td>\n",
              "      <td>0.0564</td>\n",
              "      <td>0.0760</td>\n",
              "      <td>0.0958</td>\n",
              "      <td>0.0990</td>\n",
              "      <td>0.1018</td>\n",
              "      <td>0.1030</td>\n",
              "      <td>0.2154</td>\n",
              "      <td>...</td>\n",
              "      <td>0.0061</td>\n",
              "      <td>0.0093</td>\n",
              "      <td>0.0135</td>\n",
              "      <td>0.0063</td>\n",
              "      <td>0.0063</td>\n",
              "      <td>0.0034</td>\n",
              "      <td>0.0032</td>\n",
              "      <td>0.0062</td>\n",
              "      <td>0.0067</td>\n",
              "      <td>M</td>\n",
              "    </tr>\n",
              "    <tr>\n",
              "      <th>205</th>\n",
              "      <td>0.0522</td>\n",
              "      <td>0.0437</td>\n",
              "      <td>0.0180</td>\n",
              "      <td>0.0292</td>\n",
              "      <td>0.0351</td>\n",
              "      <td>0.1171</td>\n",
              "      <td>0.1257</td>\n",
              "      <td>0.1178</td>\n",
              "      <td>0.1258</td>\n",
              "      <td>0.2529</td>\n",
              "      <td>...</td>\n",
              "      <td>0.0160</td>\n",
              "      <td>0.0029</td>\n",
              "      <td>0.0051</td>\n",
              "      <td>0.0062</td>\n",
              "      <td>0.0089</td>\n",
              "      <td>0.0140</td>\n",
              "      <td>0.0138</td>\n",
              "      <td>0.0077</td>\n",
              "      <td>0.0031</td>\n",
              "      <td>M</td>\n",
              "    </tr>\n",
              "    <tr>\n",
              "      <th>206</th>\n",
              "      <td>0.0303</td>\n",
              "      <td>0.0353</td>\n",
              "      <td>0.0490</td>\n",
              "      <td>0.0608</td>\n",
              "      <td>0.0167</td>\n",
              "      <td>0.1354</td>\n",
              "      <td>0.1465</td>\n",
              "      <td>0.1123</td>\n",
              "      <td>0.1945</td>\n",
              "      <td>0.2354</td>\n",
              "      <td>...</td>\n",
              "      <td>0.0086</td>\n",
              "      <td>0.0046</td>\n",
              "      <td>0.0126</td>\n",
              "      <td>0.0036</td>\n",
              "      <td>0.0035</td>\n",
              "      <td>0.0034</td>\n",
              "      <td>0.0079</td>\n",
              "      <td>0.0036</td>\n",
              "      <td>0.0048</td>\n",
              "      <td>M</td>\n",
              "    </tr>\n",
              "    <tr>\n",
              "      <th>207</th>\n",
              "      <td>0.0260</td>\n",
              "      <td>0.0363</td>\n",
              "      <td>0.0136</td>\n",
              "      <td>0.0272</td>\n",
              "      <td>0.0214</td>\n",
              "      <td>0.0338</td>\n",
              "      <td>0.0655</td>\n",
              "      <td>0.1400</td>\n",
              "      <td>0.1843</td>\n",
              "      <td>0.2354</td>\n",
              "      <td>...</td>\n",
              "      <td>0.0146</td>\n",
              "      <td>0.0129</td>\n",
              "      <td>0.0047</td>\n",
              "      <td>0.0039</td>\n",
              "      <td>0.0061</td>\n",
              "      <td>0.0040</td>\n",
              "      <td>0.0036</td>\n",
              "      <td>0.0061</td>\n",
              "      <td>0.0115</td>\n",
              "      <td>M</td>\n",
              "    </tr>\n",
              "  </tbody>\n",
              "</table>\n",
              "<p>208 rows × 61 columns</p>\n",
              "</div>\n",
              "      <button class=\"colab-df-convert\" onclick=\"convertToInteractive('df-43a5aa61-dd46-4def-9083-a1bab8e1d6f6')\"\n",
              "              title=\"Convert this dataframe to an interactive table.\"\n",
              "              style=\"display:none;\">\n",
              "        \n",
              "  <svg xmlns=\"http://www.w3.org/2000/svg\" height=\"24px\"viewBox=\"0 0 24 24\"\n",
              "       width=\"24px\">\n",
              "    <path d=\"M0 0h24v24H0V0z\" fill=\"none\"/>\n",
              "    <path d=\"M18.56 5.44l.94 2.06.94-2.06 2.06-.94-2.06-.94-.94-2.06-.94 2.06-2.06.94zm-11 1L8.5 8.5l.94-2.06 2.06-.94-2.06-.94L8.5 2.5l-.94 2.06-2.06.94zm10 10l.94 2.06.94-2.06 2.06-.94-2.06-.94-.94-2.06-.94 2.06-2.06.94z\"/><path d=\"M17.41 7.96l-1.37-1.37c-.4-.4-.92-.59-1.43-.59-.52 0-1.04.2-1.43.59L10.3 9.45l-7.72 7.72c-.78.78-.78 2.05 0 2.83L4 21.41c.39.39.9.59 1.41.59.51 0 1.02-.2 1.41-.59l7.78-7.78 2.81-2.81c.8-.78.8-2.07 0-2.86zM5.41 20L4 18.59l7.72-7.72 1.47 1.35L5.41 20z\"/>\n",
              "  </svg>\n",
              "      </button>\n",
              "      \n",
              "  <style>\n",
              "    .colab-df-container {\n",
              "      display:flex;\n",
              "      flex-wrap:wrap;\n",
              "      gap: 12px;\n",
              "    }\n",
              "\n",
              "    .colab-df-convert {\n",
              "      background-color: #E8F0FE;\n",
              "      border: none;\n",
              "      border-radius: 50%;\n",
              "      cursor: pointer;\n",
              "      display: none;\n",
              "      fill: #1967D2;\n",
              "      height: 32px;\n",
              "      padding: 0 0 0 0;\n",
              "      width: 32px;\n",
              "    }\n",
              "\n",
              "    .colab-df-convert:hover {\n",
              "      background-color: #E2EBFA;\n",
              "      box-shadow: 0px 1px 2px rgba(60, 64, 67, 0.3), 0px 1px 3px 1px rgba(60, 64, 67, 0.15);\n",
              "      fill: #174EA6;\n",
              "    }\n",
              "\n",
              "    [theme=dark] .colab-df-convert {\n",
              "      background-color: #3B4455;\n",
              "      fill: #D2E3FC;\n",
              "    }\n",
              "\n",
              "    [theme=dark] .colab-df-convert:hover {\n",
              "      background-color: #434B5C;\n",
              "      box-shadow: 0px 1px 3px 1px rgba(0, 0, 0, 0.15);\n",
              "      filter: drop-shadow(0px 1px 2px rgba(0, 0, 0, 0.3));\n",
              "      fill: #FFFFFF;\n",
              "    }\n",
              "  </style>\n",
              "\n",
              "      <script>\n",
              "        const buttonEl =\n",
              "          document.querySelector('#df-43a5aa61-dd46-4def-9083-a1bab8e1d6f6 button.colab-df-convert');\n",
              "        buttonEl.style.display =\n",
              "          google.colab.kernel.accessAllowed ? 'block' : 'none';\n",
              "\n",
              "        async function convertToInteractive(key) {\n",
              "          const element = document.querySelector('#df-43a5aa61-dd46-4def-9083-a1bab8e1d6f6');\n",
              "          const dataTable =\n",
              "            await google.colab.kernel.invokeFunction('convertToInteractive',\n",
              "                                                     [key], {});\n",
              "          if (!dataTable) return;\n",
              "\n",
              "          const docLinkHtml = 'Like what you see? Visit the ' +\n",
              "            '<a target=\"_blank\" href=https://colab.research.google.com/notebooks/data_table.ipynb>data table notebook</a>'\n",
              "            + ' to learn more about interactive tables.';\n",
              "          element.innerHTML = '';\n",
              "          dataTable['output_type'] = 'display_data';\n",
              "          await google.colab.output.renderOutput(dataTable, element);\n",
              "          const docLink = document.createElement('div');\n",
              "          docLink.innerHTML = docLinkHtml;\n",
              "          element.appendChild(docLink);\n",
              "        }\n",
              "      </script>\n",
              "    </div>\n",
              "  </div>\n",
              "  "
            ]
          },
          "metadata": {},
          "execution_count": 2
        }
      ]
    },
    {
      "cell_type": "code",
      "source": [
        "df.info()"
      ],
      "metadata": {
        "colab": {
          "base_uri": "https://localhost:8080/"
        },
        "id": "vohwp5yKOlUH",
        "outputId": "c31741df-37c9-499b-a304-1321f6036f51"
      },
      "execution_count": 3,
      "outputs": [
        {
          "output_type": "stream",
          "name": "stdout",
          "text": [
            "<class 'pandas.core.frame.DataFrame'>\n",
            "RangeIndex: 208 entries, 0 to 207\n",
            "Data columns (total 61 columns):\n",
            " #   Column  Non-Null Count  Dtype  \n",
            "---  ------  --------------  -----  \n",
            " 0   0       208 non-null    float64\n",
            " 1   1       208 non-null    float64\n",
            " 2   2       208 non-null    float64\n",
            " 3   3       208 non-null    float64\n",
            " 4   4       208 non-null    float64\n",
            " 5   5       208 non-null    float64\n",
            " 6   6       208 non-null    float64\n",
            " 7   7       208 non-null    float64\n",
            " 8   8       208 non-null    float64\n",
            " 9   9       208 non-null    float64\n",
            " 10  10      208 non-null    float64\n",
            " 11  11      208 non-null    float64\n",
            " 12  12      208 non-null    float64\n",
            " 13  13      208 non-null    float64\n",
            " 14  14      208 non-null    float64\n",
            " 15  15      208 non-null    float64\n",
            " 16  16      208 non-null    float64\n",
            " 17  17      208 non-null    float64\n",
            " 18  18      208 non-null    float64\n",
            " 19  19      208 non-null    float64\n",
            " 20  20      208 non-null    float64\n",
            " 21  21      208 non-null    float64\n",
            " 22  22      208 non-null    float64\n",
            " 23  23      208 non-null    float64\n",
            " 24  24      208 non-null    float64\n",
            " 25  25      208 non-null    float64\n",
            " 26  26      208 non-null    float64\n",
            " 27  27      208 non-null    float64\n",
            " 28  28      208 non-null    float64\n",
            " 29  29      208 non-null    float64\n",
            " 30  30      208 non-null    float64\n",
            " 31  31      208 non-null    float64\n",
            " 32  32      208 non-null    float64\n",
            " 33  33      208 non-null    float64\n",
            " 34  34      208 non-null    float64\n",
            " 35  35      208 non-null    float64\n",
            " 36  36      208 non-null    float64\n",
            " 37  37      208 non-null    float64\n",
            " 38  38      208 non-null    float64\n",
            " 39  39      208 non-null    float64\n",
            " 40  40      208 non-null    float64\n",
            " 41  41      208 non-null    float64\n",
            " 42  42      208 non-null    float64\n",
            " 43  43      208 non-null    float64\n",
            " 44  44      208 non-null    float64\n",
            " 45  45      208 non-null    float64\n",
            " 46  46      208 non-null    float64\n",
            " 47  47      208 non-null    float64\n",
            " 48  48      208 non-null    float64\n",
            " 49  49      208 non-null    float64\n",
            " 50  50      208 non-null    float64\n",
            " 51  51      208 non-null    float64\n",
            " 52  52      208 non-null    float64\n",
            " 53  53      208 non-null    float64\n",
            " 54  54      208 non-null    float64\n",
            " 55  55      208 non-null    float64\n",
            " 56  56      208 non-null    float64\n",
            " 57  57      208 non-null    float64\n",
            " 58  58      208 non-null    float64\n",
            " 59  59      208 non-null    float64\n",
            " 60  60      208 non-null    object \n",
            "dtypes: float64(60), object(1)\n",
            "memory usage: 99.2+ KB\n"
          ]
        }
      ]
    },
    {
      "cell_type": "markdown",
      "source": [
        "**NOTE:** All the data types are float and all are no null values hence its already processed data"
      ],
      "metadata": {
        "id": "4-MgFiJbPWep"
      }
    },
    {
      "cell_type": "code",
      "source": [
        "df.describe()"
      ],
      "metadata": {
        "colab": {
          "base_uri": "https://localhost:8080/",
          "height": 394
        },
        "id": "3XtdQCm3PWMH",
        "outputId": "1c3e5e35-55f0-4603-f452-da82db7c2168"
      },
      "execution_count": 4,
      "outputs": [
        {
          "output_type": "execute_result",
          "data": {
            "text/plain": [
              "               0           1           2           3           4           5   \\\n",
              "count  208.000000  208.000000  208.000000  208.000000  208.000000  208.000000   \n",
              "mean     0.029164    0.038437    0.043832    0.053892    0.075202    0.104570   \n",
              "std      0.022991    0.032960    0.038428    0.046528    0.055552    0.059105   \n",
              "min      0.001500    0.000600    0.001500    0.005800    0.006700    0.010200   \n",
              "25%      0.013350    0.016450    0.018950    0.024375    0.038050    0.067025   \n",
              "50%      0.022800    0.030800    0.034300    0.044050    0.062500    0.092150   \n",
              "75%      0.035550    0.047950    0.057950    0.064500    0.100275    0.134125   \n",
              "max      0.137100    0.233900    0.305900    0.426400    0.401000    0.382300   \n",
              "\n",
              "               6           7           8           9   ...          50  \\\n",
              "count  208.000000  208.000000  208.000000  208.000000  ...  208.000000   \n",
              "mean     0.121747    0.134799    0.178003    0.208259  ...    0.016069   \n",
              "std      0.061788    0.085152    0.118387    0.134416  ...    0.012008   \n",
              "min      0.003300    0.005500    0.007500    0.011300  ...    0.000000   \n",
              "25%      0.080900    0.080425    0.097025    0.111275  ...    0.008425   \n",
              "50%      0.106950    0.112100    0.152250    0.182400  ...    0.013900   \n",
              "75%      0.154000    0.169600    0.233425    0.268700  ...    0.020825   \n",
              "max      0.372900    0.459000    0.682800    0.710600  ...    0.100400   \n",
              "\n",
              "               51          52          53          54          55          56  \\\n",
              "count  208.000000  208.000000  208.000000  208.000000  208.000000  208.000000   \n",
              "mean     0.013420    0.010709    0.010941    0.009290    0.008222    0.007820   \n",
              "std      0.009634    0.007060    0.007301    0.007088    0.005736    0.005785   \n",
              "min      0.000800    0.000500    0.001000    0.000600    0.000400    0.000300   \n",
              "25%      0.007275    0.005075    0.005375    0.004150    0.004400    0.003700   \n",
              "50%      0.011400    0.009550    0.009300    0.007500    0.006850    0.005950   \n",
              "75%      0.016725    0.014900    0.014500    0.012100    0.010575    0.010425   \n",
              "max      0.070900    0.039000    0.035200    0.044700    0.039400    0.035500   \n",
              "\n",
              "               57          58          59  \n",
              "count  208.000000  208.000000  208.000000  \n",
              "mean     0.007949    0.007941    0.006507  \n",
              "std      0.006470    0.006181    0.005031  \n",
              "min      0.000300    0.000100    0.000600  \n",
              "25%      0.003600    0.003675    0.003100  \n",
              "50%      0.005800    0.006400    0.005300  \n",
              "75%      0.010350    0.010325    0.008525  \n",
              "max      0.044000    0.036400    0.043900  \n",
              "\n",
              "[8 rows x 60 columns]"
            ],
            "text/html": [
              "\n",
              "  <div id=\"df-e7974cf7-babf-4af4-8904-48e0cf9aeb4d\">\n",
              "    <div class=\"colab-df-container\">\n",
              "      <div>\n",
              "<style scoped>\n",
              "    .dataframe tbody tr th:only-of-type {\n",
              "        vertical-align: middle;\n",
              "    }\n",
              "\n",
              "    .dataframe tbody tr th {\n",
              "        vertical-align: top;\n",
              "    }\n",
              "\n",
              "    .dataframe thead th {\n",
              "        text-align: right;\n",
              "    }\n",
              "</style>\n",
              "<table border=\"1\" class=\"dataframe\">\n",
              "  <thead>\n",
              "    <tr style=\"text-align: right;\">\n",
              "      <th></th>\n",
              "      <th>0</th>\n",
              "      <th>1</th>\n",
              "      <th>2</th>\n",
              "      <th>3</th>\n",
              "      <th>4</th>\n",
              "      <th>5</th>\n",
              "      <th>6</th>\n",
              "      <th>7</th>\n",
              "      <th>8</th>\n",
              "      <th>9</th>\n",
              "      <th>...</th>\n",
              "      <th>50</th>\n",
              "      <th>51</th>\n",
              "      <th>52</th>\n",
              "      <th>53</th>\n",
              "      <th>54</th>\n",
              "      <th>55</th>\n",
              "      <th>56</th>\n",
              "      <th>57</th>\n",
              "      <th>58</th>\n",
              "      <th>59</th>\n",
              "    </tr>\n",
              "  </thead>\n",
              "  <tbody>\n",
              "    <tr>\n",
              "      <th>count</th>\n",
              "      <td>208.000000</td>\n",
              "      <td>208.000000</td>\n",
              "      <td>208.000000</td>\n",
              "      <td>208.000000</td>\n",
              "      <td>208.000000</td>\n",
              "      <td>208.000000</td>\n",
              "      <td>208.000000</td>\n",
              "      <td>208.000000</td>\n",
              "      <td>208.000000</td>\n",
              "      <td>208.000000</td>\n",
              "      <td>...</td>\n",
              "      <td>208.000000</td>\n",
              "      <td>208.000000</td>\n",
              "      <td>208.000000</td>\n",
              "      <td>208.000000</td>\n",
              "      <td>208.000000</td>\n",
              "      <td>208.000000</td>\n",
              "      <td>208.000000</td>\n",
              "      <td>208.000000</td>\n",
              "      <td>208.000000</td>\n",
              "      <td>208.000000</td>\n",
              "    </tr>\n",
              "    <tr>\n",
              "      <th>mean</th>\n",
              "      <td>0.029164</td>\n",
              "      <td>0.038437</td>\n",
              "      <td>0.043832</td>\n",
              "      <td>0.053892</td>\n",
              "      <td>0.075202</td>\n",
              "      <td>0.104570</td>\n",
              "      <td>0.121747</td>\n",
              "      <td>0.134799</td>\n",
              "      <td>0.178003</td>\n",
              "      <td>0.208259</td>\n",
              "      <td>...</td>\n",
              "      <td>0.016069</td>\n",
              "      <td>0.013420</td>\n",
              "      <td>0.010709</td>\n",
              "      <td>0.010941</td>\n",
              "      <td>0.009290</td>\n",
              "      <td>0.008222</td>\n",
              "      <td>0.007820</td>\n",
              "      <td>0.007949</td>\n",
              "      <td>0.007941</td>\n",
              "      <td>0.006507</td>\n",
              "    </tr>\n",
              "    <tr>\n",
              "      <th>std</th>\n",
              "      <td>0.022991</td>\n",
              "      <td>0.032960</td>\n",
              "      <td>0.038428</td>\n",
              "      <td>0.046528</td>\n",
              "      <td>0.055552</td>\n",
              "      <td>0.059105</td>\n",
              "      <td>0.061788</td>\n",
              "      <td>0.085152</td>\n",
              "      <td>0.118387</td>\n",
              "      <td>0.134416</td>\n",
              "      <td>...</td>\n",
              "      <td>0.012008</td>\n",
              "      <td>0.009634</td>\n",
              "      <td>0.007060</td>\n",
              "      <td>0.007301</td>\n",
              "      <td>0.007088</td>\n",
              "      <td>0.005736</td>\n",
              "      <td>0.005785</td>\n",
              "      <td>0.006470</td>\n",
              "      <td>0.006181</td>\n",
              "      <td>0.005031</td>\n",
              "    </tr>\n",
              "    <tr>\n",
              "      <th>min</th>\n",
              "      <td>0.001500</td>\n",
              "      <td>0.000600</td>\n",
              "      <td>0.001500</td>\n",
              "      <td>0.005800</td>\n",
              "      <td>0.006700</td>\n",
              "      <td>0.010200</td>\n",
              "      <td>0.003300</td>\n",
              "      <td>0.005500</td>\n",
              "      <td>0.007500</td>\n",
              "      <td>0.011300</td>\n",
              "      <td>...</td>\n",
              "      <td>0.000000</td>\n",
              "      <td>0.000800</td>\n",
              "      <td>0.000500</td>\n",
              "      <td>0.001000</td>\n",
              "      <td>0.000600</td>\n",
              "      <td>0.000400</td>\n",
              "      <td>0.000300</td>\n",
              "      <td>0.000300</td>\n",
              "      <td>0.000100</td>\n",
              "      <td>0.000600</td>\n",
              "    </tr>\n",
              "    <tr>\n",
              "      <th>25%</th>\n",
              "      <td>0.013350</td>\n",
              "      <td>0.016450</td>\n",
              "      <td>0.018950</td>\n",
              "      <td>0.024375</td>\n",
              "      <td>0.038050</td>\n",
              "      <td>0.067025</td>\n",
              "      <td>0.080900</td>\n",
              "      <td>0.080425</td>\n",
              "      <td>0.097025</td>\n",
              "      <td>0.111275</td>\n",
              "      <td>...</td>\n",
              "      <td>0.008425</td>\n",
              "      <td>0.007275</td>\n",
              "      <td>0.005075</td>\n",
              "      <td>0.005375</td>\n",
              "      <td>0.004150</td>\n",
              "      <td>0.004400</td>\n",
              "      <td>0.003700</td>\n",
              "      <td>0.003600</td>\n",
              "      <td>0.003675</td>\n",
              "      <td>0.003100</td>\n",
              "    </tr>\n",
              "    <tr>\n",
              "      <th>50%</th>\n",
              "      <td>0.022800</td>\n",
              "      <td>0.030800</td>\n",
              "      <td>0.034300</td>\n",
              "      <td>0.044050</td>\n",
              "      <td>0.062500</td>\n",
              "      <td>0.092150</td>\n",
              "      <td>0.106950</td>\n",
              "      <td>0.112100</td>\n",
              "      <td>0.152250</td>\n",
              "      <td>0.182400</td>\n",
              "      <td>...</td>\n",
              "      <td>0.013900</td>\n",
              "      <td>0.011400</td>\n",
              "      <td>0.009550</td>\n",
              "      <td>0.009300</td>\n",
              "      <td>0.007500</td>\n",
              "      <td>0.006850</td>\n",
              "      <td>0.005950</td>\n",
              "      <td>0.005800</td>\n",
              "      <td>0.006400</td>\n",
              "      <td>0.005300</td>\n",
              "    </tr>\n",
              "    <tr>\n",
              "      <th>75%</th>\n",
              "      <td>0.035550</td>\n",
              "      <td>0.047950</td>\n",
              "      <td>0.057950</td>\n",
              "      <td>0.064500</td>\n",
              "      <td>0.100275</td>\n",
              "      <td>0.134125</td>\n",
              "      <td>0.154000</td>\n",
              "      <td>0.169600</td>\n",
              "      <td>0.233425</td>\n",
              "      <td>0.268700</td>\n",
              "      <td>...</td>\n",
              "      <td>0.020825</td>\n",
              "      <td>0.016725</td>\n",
              "      <td>0.014900</td>\n",
              "      <td>0.014500</td>\n",
              "      <td>0.012100</td>\n",
              "      <td>0.010575</td>\n",
              "      <td>0.010425</td>\n",
              "      <td>0.010350</td>\n",
              "      <td>0.010325</td>\n",
              "      <td>0.008525</td>\n",
              "    </tr>\n",
              "    <tr>\n",
              "      <th>max</th>\n",
              "      <td>0.137100</td>\n",
              "      <td>0.233900</td>\n",
              "      <td>0.305900</td>\n",
              "      <td>0.426400</td>\n",
              "      <td>0.401000</td>\n",
              "      <td>0.382300</td>\n",
              "      <td>0.372900</td>\n",
              "      <td>0.459000</td>\n",
              "      <td>0.682800</td>\n",
              "      <td>0.710600</td>\n",
              "      <td>...</td>\n",
              "      <td>0.100400</td>\n",
              "      <td>0.070900</td>\n",
              "      <td>0.039000</td>\n",
              "      <td>0.035200</td>\n",
              "      <td>0.044700</td>\n",
              "      <td>0.039400</td>\n",
              "      <td>0.035500</td>\n",
              "      <td>0.044000</td>\n",
              "      <td>0.036400</td>\n",
              "      <td>0.043900</td>\n",
              "    </tr>\n",
              "  </tbody>\n",
              "</table>\n",
              "<p>8 rows × 60 columns</p>\n",
              "</div>\n",
              "      <button class=\"colab-df-convert\" onclick=\"convertToInteractive('df-e7974cf7-babf-4af4-8904-48e0cf9aeb4d')\"\n",
              "              title=\"Convert this dataframe to an interactive table.\"\n",
              "              style=\"display:none;\">\n",
              "        \n",
              "  <svg xmlns=\"http://www.w3.org/2000/svg\" height=\"24px\"viewBox=\"0 0 24 24\"\n",
              "       width=\"24px\">\n",
              "    <path d=\"M0 0h24v24H0V0z\" fill=\"none\"/>\n",
              "    <path d=\"M18.56 5.44l.94 2.06.94-2.06 2.06-.94-2.06-.94-.94-2.06-.94 2.06-2.06.94zm-11 1L8.5 8.5l.94-2.06 2.06-.94-2.06-.94L8.5 2.5l-.94 2.06-2.06.94zm10 10l.94 2.06.94-2.06 2.06-.94-2.06-.94-.94-2.06-.94 2.06-2.06.94z\"/><path d=\"M17.41 7.96l-1.37-1.37c-.4-.4-.92-.59-1.43-.59-.52 0-1.04.2-1.43.59L10.3 9.45l-7.72 7.72c-.78.78-.78 2.05 0 2.83L4 21.41c.39.39.9.59 1.41.59.51 0 1.02-.2 1.41-.59l7.78-7.78 2.81-2.81c.8-.78.8-2.07 0-2.86zM5.41 20L4 18.59l7.72-7.72 1.47 1.35L5.41 20z\"/>\n",
              "  </svg>\n",
              "      </button>\n",
              "      \n",
              "  <style>\n",
              "    .colab-df-container {\n",
              "      display:flex;\n",
              "      flex-wrap:wrap;\n",
              "      gap: 12px;\n",
              "    }\n",
              "\n",
              "    .colab-df-convert {\n",
              "      background-color: #E8F0FE;\n",
              "      border: none;\n",
              "      border-radius: 50%;\n",
              "      cursor: pointer;\n",
              "      display: none;\n",
              "      fill: #1967D2;\n",
              "      height: 32px;\n",
              "      padding: 0 0 0 0;\n",
              "      width: 32px;\n",
              "    }\n",
              "\n",
              "    .colab-df-convert:hover {\n",
              "      background-color: #E2EBFA;\n",
              "      box-shadow: 0px 1px 2px rgba(60, 64, 67, 0.3), 0px 1px 3px 1px rgba(60, 64, 67, 0.15);\n",
              "      fill: #174EA6;\n",
              "    }\n",
              "\n",
              "    [theme=dark] .colab-df-convert {\n",
              "      background-color: #3B4455;\n",
              "      fill: #D2E3FC;\n",
              "    }\n",
              "\n",
              "    [theme=dark] .colab-df-convert:hover {\n",
              "      background-color: #434B5C;\n",
              "      box-shadow: 0px 1px 3px 1px rgba(0, 0, 0, 0.15);\n",
              "      filter: drop-shadow(0px 1px 2px rgba(0, 0, 0, 0.3));\n",
              "      fill: #FFFFFF;\n",
              "    }\n",
              "  </style>\n",
              "\n",
              "      <script>\n",
              "        const buttonEl =\n",
              "          document.querySelector('#df-e7974cf7-babf-4af4-8904-48e0cf9aeb4d button.colab-df-convert');\n",
              "        buttonEl.style.display =\n",
              "          google.colab.kernel.accessAllowed ? 'block' : 'none';\n",
              "\n",
              "        async function convertToInteractive(key) {\n",
              "          const element = document.querySelector('#df-e7974cf7-babf-4af4-8904-48e0cf9aeb4d');\n",
              "          const dataTable =\n",
              "            await google.colab.kernel.invokeFunction('convertToInteractive',\n",
              "                                                     [key], {});\n",
              "          if (!dataTable) return;\n",
              "\n",
              "          const docLinkHtml = 'Like what you see? Visit the ' +\n",
              "            '<a target=\"_blank\" href=https://colab.research.google.com/notebooks/data_table.ipynb>data table notebook</a>'\n",
              "            + ' to learn more about interactive tables.';\n",
              "          element.innerHTML = '';\n",
              "          dataTable['output_type'] = 'display_data';\n",
              "          await google.colab.output.renderOutput(dataTable, element);\n",
              "          const docLink = document.createElement('div');\n",
              "          docLink.innerHTML = docLinkHtml;\n",
              "          element.appendChild(docLink);\n",
              "        }\n",
              "      </script>\n",
              "    </div>\n",
              "  </div>\n",
              "  "
            ]
          },
          "metadata": {},
          "execution_count": 4
        }
      ]
    },
    {
      "cell_type": "code",
      "source": [
        "df[60].value_counts()"
      ],
      "metadata": {
        "colab": {
          "base_uri": "https://localhost:8080/"
        },
        "id": "uVYZ5r57PVDc",
        "outputId": "468180ec-8c34-4df9-eb4f-c6ff84e25745"
      },
      "execution_count": 5,
      "outputs": [
        {
          "output_type": "execute_result",
          "data": {
            "text/plain": [
              "M    111\n",
              "R     97\n",
              "Name: 60, dtype: int64"
            ]
          },
          "metadata": {},
          "execution_count": 5
        }
      ]
    },
    {
      "cell_type": "markdown",
      "source": [
        "**NOTE:** Here we have equal amounts of rocks and mines hence it wont be a problem.\n",
        "* M - Mines\n",
        "* R - Rocks"
      ],
      "metadata": {
        "id": "_9N83ciCP08q"
      }
    },
    {
      "cell_type": "code",
      "source": [
        "X = df.drop(60,axis=1)\n",
        "y = df[60]"
      ],
      "metadata": {
        "id": "Nw4mgUo5PxnZ"
      },
      "execution_count": 6,
      "outputs": []
    },
    {
      "cell_type": "code",
      "source": [
        "X.head()"
      ],
      "metadata": {
        "colab": {
          "base_uri": "https://localhost:8080/",
          "height": 299
        },
        "id": "RaQ_pjkdQXS7",
        "outputId": "758e02b2-58c0-49b0-ebde-60f705a7cb78"
      },
      "execution_count": 7,
      "outputs": [
        {
          "output_type": "execute_result",
          "data": {
            "text/plain": [
              "       0       1       2       3       4       5       6       7       8   \\\n",
              "0  0.0200  0.0371  0.0428  0.0207  0.0954  0.0986  0.1539  0.1601  0.3109   \n",
              "1  0.0453  0.0523  0.0843  0.0689  0.1183  0.2583  0.2156  0.3481  0.3337   \n",
              "2  0.0262  0.0582  0.1099  0.1083  0.0974  0.2280  0.2431  0.3771  0.5598   \n",
              "3  0.0100  0.0171  0.0623  0.0205  0.0205  0.0368  0.1098  0.1276  0.0598   \n",
              "4  0.0762  0.0666  0.0481  0.0394  0.0590  0.0649  0.1209  0.2467  0.3564   \n",
              "\n",
              "       9   ...      50      51      52      53      54      55      56  \\\n",
              "0  0.2111  ...  0.0232  0.0027  0.0065  0.0159  0.0072  0.0167  0.0180   \n",
              "1  0.2872  ...  0.0125  0.0084  0.0089  0.0048  0.0094  0.0191  0.0140   \n",
              "2  0.6194  ...  0.0033  0.0232  0.0166  0.0095  0.0180  0.0244  0.0316   \n",
              "3  0.1264  ...  0.0241  0.0121  0.0036  0.0150  0.0085  0.0073  0.0050   \n",
              "4  0.4459  ...  0.0156  0.0031  0.0054  0.0105  0.0110  0.0015  0.0072   \n",
              "\n",
              "       57      58      59  \n",
              "0  0.0084  0.0090  0.0032  \n",
              "1  0.0049  0.0052  0.0044  \n",
              "2  0.0164  0.0095  0.0078  \n",
              "3  0.0044  0.0040  0.0117  \n",
              "4  0.0048  0.0107  0.0094  \n",
              "\n",
              "[5 rows x 60 columns]"
            ],
            "text/html": [
              "\n",
              "  <div id=\"df-10728a17-dc95-4d0b-8a30-163e5a1e3336\">\n",
              "    <div class=\"colab-df-container\">\n",
              "      <div>\n",
              "<style scoped>\n",
              "    .dataframe tbody tr th:only-of-type {\n",
              "        vertical-align: middle;\n",
              "    }\n",
              "\n",
              "    .dataframe tbody tr th {\n",
              "        vertical-align: top;\n",
              "    }\n",
              "\n",
              "    .dataframe thead th {\n",
              "        text-align: right;\n",
              "    }\n",
              "</style>\n",
              "<table border=\"1\" class=\"dataframe\">\n",
              "  <thead>\n",
              "    <tr style=\"text-align: right;\">\n",
              "      <th></th>\n",
              "      <th>0</th>\n",
              "      <th>1</th>\n",
              "      <th>2</th>\n",
              "      <th>3</th>\n",
              "      <th>4</th>\n",
              "      <th>5</th>\n",
              "      <th>6</th>\n",
              "      <th>7</th>\n",
              "      <th>8</th>\n",
              "      <th>9</th>\n",
              "      <th>...</th>\n",
              "      <th>50</th>\n",
              "      <th>51</th>\n",
              "      <th>52</th>\n",
              "      <th>53</th>\n",
              "      <th>54</th>\n",
              "      <th>55</th>\n",
              "      <th>56</th>\n",
              "      <th>57</th>\n",
              "      <th>58</th>\n",
              "      <th>59</th>\n",
              "    </tr>\n",
              "  </thead>\n",
              "  <tbody>\n",
              "    <tr>\n",
              "      <th>0</th>\n",
              "      <td>0.0200</td>\n",
              "      <td>0.0371</td>\n",
              "      <td>0.0428</td>\n",
              "      <td>0.0207</td>\n",
              "      <td>0.0954</td>\n",
              "      <td>0.0986</td>\n",
              "      <td>0.1539</td>\n",
              "      <td>0.1601</td>\n",
              "      <td>0.3109</td>\n",
              "      <td>0.2111</td>\n",
              "      <td>...</td>\n",
              "      <td>0.0232</td>\n",
              "      <td>0.0027</td>\n",
              "      <td>0.0065</td>\n",
              "      <td>0.0159</td>\n",
              "      <td>0.0072</td>\n",
              "      <td>0.0167</td>\n",
              "      <td>0.0180</td>\n",
              "      <td>0.0084</td>\n",
              "      <td>0.0090</td>\n",
              "      <td>0.0032</td>\n",
              "    </tr>\n",
              "    <tr>\n",
              "      <th>1</th>\n",
              "      <td>0.0453</td>\n",
              "      <td>0.0523</td>\n",
              "      <td>0.0843</td>\n",
              "      <td>0.0689</td>\n",
              "      <td>0.1183</td>\n",
              "      <td>0.2583</td>\n",
              "      <td>0.2156</td>\n",
              "      <td>0.3481</td>\n",
              "      <td>0.3337</td>\n",
              "      <td>0.2872</td>\n",
              "      <td>...</td>\n",
              "      <td>0.0125</td>\n",
              "      <td>0.0084</td>\n",
              "      <td>0.0089</td>\n",
              "      <td>0.0048</td>\n",
              "      <td>0.0094</td>\n",
              "      <td>0.0191</td>\n",
              "      <td>0.0140</td>\n",
              "      <td>0.0049</td>\n",
              "      <td>0.0052</td>\n",
              "      <td>0.0044</td>\n",
              "    </tr>\n",
              "    <tr>\n",
              "      <th>2</th>\n",
              "      <td>0.0262</td>\n",
              "      <td>0.0582</td>\n",
              "      <td>0.1099</td>\n",
              "      <td>0.1083</td>\n",
              "      <td>0.0974</td>\n",
              "      <td>0.2280</td>\n",
              "      <td>0.2431</td>\n",
              "      <td>0.3771</td>\n",
              "      <td>0.5598</td>\n",
              "      <td>0.6194</td>\n",
              "      <td>...</td>\n",
              "      <td>0.0033</td>\n",
              "      <td>0.0232</td>\n",
              "      <td>0.0166</td>\n",
              "      <td>0.0095</td>\n",
              "      <td>0.0180</td>\n",
              "      <td>0.0244</td>\n",
              "      <td>0.0316</td>\n",
              "      <td>0.0164</td>\n",
              "      <td>0.0095</td>\n",
              "      <td>0.0078</td>\n",
              "    </tr>\n",
              "    <tr>\n",
              "      <th>3</th>\n",
              "      <td>0.0100</td>\n",
              "      <td>0.0171</td>\n",
              "      <td>0.0623</td>\n",
              "      <td>0.0205</td>\n",
              "      <td>0.0205</td>\n",
              "      <td>0.0368</td>\n",
              "      <td>0.1098</td>\n",
              "      <td>0.1276</td>\n",
              "      <td>0.0598</td>\n",
              "      <td>0.1264</td>\n",
              "      <td>...</td>\n",
              "      <td>0.0241</td>\n",
              "      <td>0.0121</td>\n",
              "      <td>0.0036</td>\n",
              "      <td>0.0150</td>\n",
              "      <td>0.0085</td>\n",
              "      <td>0.0073</td>\n",
              "      <td>0.0050</td>\n",
              "      <td>0.0044</td>\n",
              "      <td>0.0040</td>\n",
              "      <td>0.0117</td>\n",
              "    </tr>\n",
              "    <tr>\n",
              "      <th>4</th>\n",
              "      <td>0.0762</td>\n",
              "      <td>0.0666</td>\n",
              "      <td>0.0481</td>\n",
              "      <td>0.0394</td>\n",
              "      <td>0.0590</td>\n",
              "      <td>0.0649</td>\n",
              "      <td>0.1209</td>\n",
              "      <td>0.2467</td>\n",
              "      <td>0.3564</td>\n",
              "      <td>0.4459</td>\n",
              "      <td>...</td>\n",
              "      <td>0.0156</td>\n",
              "      <td>0.0031</td>\n",
              "      <td>0.0054</td>\n",
              "      <td>0.0105</td>\n",
              "      <td>0.0110</td>\n",
              "      <td>0.0015</td>\n",
              "      <td>0.0072</td>\n",
              "      <td>0.0048</td>\n",
              "      <td>0.0107</td>\n",
              "      <td>0.0094</td>\n",
              "    </tr>\n",
              "  </tbody>\n",
              "</table>\n",
              "<p>5 rows × 60 columns</p>\n",
              "</div>\n",
              "      <button class=\"colab-df-convert\" onclick=\"convertToInteractive('df-10728a17-dc95-4d0b-8a30-163e5a1e3336')\"\n",
              "              title=\"Convert this dataframe to an interactive table.\"\n",
              "              style=\"display:none;\">\n",
              "        \n",
              "  <svg xmlns=\"http://www.w3.org/2000/svg\" height=\"24px\"viewBox=\"0 0 24 24\"\n",
              "       width=\"24px\">\n",
              "    <path d=\"M0 0h24v24H0V0z\" fill=\"none\"/>\n",
              "    <path d=\"M18.56 5.44l.94 2.06.94-2.06 2.06-.94-2.06-.94-.94-2.06-.94 2.06-2.06.94zm-11 1L8.5 8.5l.94-2.06 2.06-.94-2.06-.94L8.5 2.5l-.94 2.06-2.06.94zm10 10l.94 2.06.94-2.06 2.06-.94-2.06-.94-.94-2.06-.94 2.06-2.06.94z\"/><path d=\"M17.41 7.96l-1.37-1.37c-.4-.4-.92-.59-1.43-.59-.52 0-1.04.2-1.43.59L10.3 9.45l-7.72 7.72c-.78.78-.78 2.05 0 2.83L4 21.41c.39.39.9.59 1.41.59.51 0 1.02-.2 1.41-.59l7.78-7.78 2.81-2.81c.8-.78.8-2.07 0-2.86zM5.41 20L4 18.59l7.72-7.72 1.47 1.35L5.41 20z\"/>\n",
              "  </svg>\n",
              "      </button>\n",
              "      \n",
              "  <style>\n",
              "    .colab-df-container {\n",
              "      display:flex;\n",
              "      flex-wrap:wrap;\n",
              "      gap: 12px;\n",
              "    }\n",
              "\n",
              "    .colab-df-convert {\n",
              "      background-color: #E8F0FE;\n",
              "      border: none;\n",
              "      border-radius: 50%;\n",
              "      cursor: pointer;\n",
              "      display: none;\n",
              "      fill: #1967D2;\n",
              "      height: 32px;\n",
              "      padding: 0 0 0 0;\n",
              "      width: 32px;\n",
              "    }\n",
              "\n",
              "    .colab-df-convert:hover {\n",
              "      background-color: #E2EBFA;\n",
              "      box-shadow: 0px 1px 2px rgba(60, 64, 67, 0.3), 0px 1px 3px 1px rgba(60, 64, 67, 0.15);\n",
              "      fill: #174EA6;\n",
              "    }\n",
              "\n",
              "    [theme=dark] .colab-df-convert {\n",
              "      background-color: #3B4455;\n",
              "      fill: #D2E3FC;\n",
              "    }\n",
              "\n",
              "    [theme=dark] .colab-df-convert:hover {\n",
              "      background-color: #434B5C;\n",
              "      box-shadow: 0px 1px 3px 1px rgba(0, 0, 0, 0.15);\n",
              "      filter: drop-shadow(0px 1px 2px rgba(0, 0, 0, 0.3));\n",
              "      fill: #FFFFFF;\n",
              "    }\n",
              "  </style>\n",
              "\n",
              "      <script>\n",
              "        const buttonEl =\n",
              "          document.querySelector('#df-10728a17-dc95-4d0b-8a30-163e5a1e3336 button.colab-df-convert');\n",
              "        buttonEl.style.display =\n",
              "          google.colab.kernel.accessAllowed ? 'block' : 'none';\n",
              "\n",
              "        async function convertToInteractive(key) {\n",
              "          const element = document.querySelector('#df-10728a17-dc95-4d0b-8a30-163e5a1e3336');\n",
              "          const dataTable =\n",
              "            await google.colab.kernel.invokeFunction('convertToInteractive',\n",
              "                                                     [key], {});\n",
              "          if (!dataTable) return;\n",
              "\n",
              "          const docLinkHtml = 'Like what you see? Visit the ' +\n",
              "            '<a target=\"_blank\" href=https://colab.research.google.com/notebooks/data_table.ipynb>data table notebook</a>'\n",
              "            + ' to learn more about interactive tables.';\n",
              "          element.innerHTML = '';\n",
              "          dataTable['output_type'] = 'display_data';\n",
              "          await google.colab.output.renderOutput(dataTable, element);\n",
              "          const docLink = document.createElement('div');\n",
              "          docLink.innerHTML = docLinkHtml;\n",
              "          element.appendChild(docLink);\n",
              "        }\n",
              "      </script>\n",
              "    </div>\n",
              "  </div>\n",
              "  "
            ]
          },
          "metadata": {},
          "execution_count": 7
        }
      ]
    },
    {
      "cell_type": "code",
      "source": [
        "y.head()"
      ],
      "metadata": {
        "colab": {
          "base_uri": "https://localhost:8080/"
        },
        "id": "J1mNz0DGQa8Q",
        "outputId": "ffd340cf-4145-47a1-bbb6-6fa9acb2c95d"
      },
      "execution_count": 8,
      "outputs": [
        {
          "output_type": "execute_result",
          "data": {
            "text/plain": [
              "0    R\n",
              "1    R\n",
              "2    R\n",
              "3    R\n",
              "4    R\n",
              "Name: 60, dtype: object"
            ]
          },
          "metadata": {},
          "execution_count": 8
        }
      ]
    },
    {
      "cell_type": "code",
      "source": [
        "from sklearn.model_selection import train_test_split\n",
        "\n",
        "X_train, X_test, y_train, y_test = train_test_split(X,y, test_size=0.2,stratify =y, random_state=42)"
      ],
      "metadata": {
        "id": "61jbB2EUQeE8"
      },
      "execution_count": 9,
      "outputs": []
    },
    {
      "cell_type": "markdown",
      "source": [
        "## Logistic Regression Models"
      ],
      "metadata": {
        "id": "a3aq9N-7R2Og"
      }
    },
    {
      "cell_type": "code",
      "source": [
        "from sklearn.linear_model import LogisticRegression\n",
        "from sklearn.metrics import confusion_matrix, classification_report, accuracy_score\n",
        "\n",
        "def LR_model(solver,C,penalty):\n",
        "\n",
        "  LR = LogisticRegression(solver = solver, C = C, penalty = penalty)\n",
        "  LR.fit(X_train, y_train)\n",
        "  y_pred = LR.predict(X_test)\n",
        "\n",
        "  cr = classification_report(y_test,y_pred)\n",
        "  acc_score = accuracy_score(y_test,y_pred)\n",
        "  cm = confusion_matrix(y_test,y_pred)\n",
        "\n",
        "  fig, ax = plt.subplots(figsize=(8,8))\n",
        "  ax.imshow(cm)\n",
        "  ax.grid(False)\n",
        "  ax.xaxis.set(ticks=(0,1), ticklabels = (\"Predicted 0's\", \"Predicted 1's\"))\n",
        "  ax.yaxis.set(ticks=(0,1), ticklabels = (\"Actual 0's\", \"Actual 1's\"))\n",
        "  ax.set_ylim(1.5, -0.5)\n",
        "  for i in range(2):\n",
        "    for j in range(2):\n",
        "      ax.text(j, i, cm[i, j], ha = 'center', va = 'center', color = 'red')\n",
        "  plt.show()\n",
        "\n",
        "  print('Predicted Values are :', y_pred)\n",
        "  print(cr)\n",
        "  print('Prediction Accuracy:',round((acc_score)*100,3),'%')\n",
        "\n"
      ],
      "metadata": {
        "id": "NjKJFSbFRJo7"
      },
      "execution_count": 10,
      "outputs": []
    },
    {
      "cell_type": "code",
      "source": [
        "pred1 = LR_model('lbfgs',0.3,'l2')"
      ],
      "metadata": {
        "colab": {
          "base_uri": "https://localhost:8080/",
          "height": 709
        },
        "id": "_LijNOdHTN_E",
        "outputId": "f1a2e523-ceb0-4505-ea6e-6abffd48b0b0"
      },
      "execution_count": 11,
      "outputs": [
        {
          "output_type": "display_data",
          "data": {
            "text/plain": [
              "<Figure size 576x576 with 1 Axes>"
            ],
            "image/png": "[encoded data removed]"
          },
          "metadata": {
            "needs_background": "light"
          }
        },
        {
          "output_type": "stream",
          "name": "stdout",
          "text": [
            "Predicted Values are : ['R' 'M' 'R' 'M' 'M' 'M' 'M' 'R' 'M' 'R' 'R' 'M' 'R' 'R' 'R' 'R' 'M' 'M'\n",
            " 'M' 'M' 'M' 'M' 'R' 'R' 'R' 'R' 'M' 'M' 'M' 'R' 'M' 'M' 'R' 'M' 'M' 'M'\n",
            " 'M' 'M' 'M' 'M' 'M' 'R']\n",
            "              precision    recall  f1-score   support\n",
            "\n",
            "           M       0.77      0.91      0.83        22\n",
            "           R       0.88      0.70      0.78        20\n",
            "\n",
            "    accuracy                           0.81        42\n",
            "   macro avg       0.82      0.80      0.81        42\n",
            "weighted avg       0.82      0.81      0.81        42\n",
            "\n",
            "Prediction Accuracy: 80.952 %\n"
          ]
        }
      ]
    },
    {
      "cell_type": "code",
      "source": [
        "pred2 = LR_model('lbfgs',0.5,'l2')"
      ],
      "metadata": {
        "colab": {
          "base_uri": "https://localhost:8080/",
          "height": 709
        },
        "id": "A3QPpQVfWIgf",
        "outputId": "607ad902-ebc7-40fa-b0e1-75f1926e9d06"
      },
      "execution_count": 12,
      "outputs": [
        {
          "output_type": "display_data",
          "data": {
            "text/plain": [
              "<Figure size 576x576 with 1 Axes>"
            ],
            "image/png": "[encoded data removed]"
          },
          "metadata": {
            "needs_background": "light"
          }
        },
        {
          "output_type": "stream",
          "name": "stdout",
          "text": [
            "Predicted Values are : ['R' 'M' 'R' 'M' 'M' 'M' 'M' 'R' 'M' 'R' 'R' 'M' 'R' 'R' 'R' 'R' 'M' 'M'\n",
            " 'M' 'M' 'M' 'M' 'R' 'R' 'R' 'R' 'R' 'M' 'M' 'R' 'M' 'M' 'R' 'M' 'M' 'M'\n",
            " 'M' 'M' 'M' 'M' 'M' 'R']\n",
            "              precision    recall  f1-score   support\n",
            "\n",
            "           M       0.80      0.91      0.85        22\n",
            "           R       0.88      0.75      0.81        20\n",
            "\n",
            "    accuracy                           0.83        42\n",
            "   macro avg       0.84      0.83      0.83        42\n",
            "weighted avg       0.84      0.83      0.83        42\n",
            "\n",
            "Prediction Accuracy: 83.333 %\n"
          ]
        }
      ]
    },
    {
      "cell_type": "code",
      "source": [
        "from sklearn.model_selection import GridSearchCV\n",
        "\n",
        "model1 = LogisticRegression()\n",
        "parameters = { 'solver':['newton-cg', 'lbfgs', 'liblinear', 'sag', 'saga'],\n",
        "              'C' : [0.1,0.2,0.3,0.4,0.5,0.6,0.7,0.8,0.9,1],\n",
        "              'penalty':['l2']}\n",
        "classifier = GridSearchCV(model1,parameters,cv=5,verbose=4)"
      ],
      "metadata": {
        "id": "5OVzMjC4XEWl"
      },
      "execution_count": 13,
      "outputs": []
    },
    {
      "cell_type": "code",
      "source": [
        "classifier.fit(X_train,y_train)"
      ],
      "metadata": {
        "colab": {
          "base_uri": "https://localhost:8080/"
        },
        "id": "hKcmyJn6Yufq",
        "outputId": "bcc80d07-dbf5-461b-f233-b0c14acebb9b"
      },
      "execution_count": 14,
      "outputs": [
        {
          "output_type": "stream",
          "name": "stdout",
          "text": [
            "Fitting 5 folds for each of 50 candidates, totalling 250 fits\n",
            "[CV 1/5] END C=0.1, penalty=l2, solver=newton-cg;, score=0.676 total time=   0.0s\n",
            "[CV 2/5] END C=0.1, penalty=l2, solver=newton-cg;, score=0.697 total time=   0.0s\n",
            "[CV 3/5] END C=0.1, penalty=l2, solver=newton-cg;, score=0.667 total time=   0.0s\n",
            "[CV 4/5] END C=0.1, penalty=l2, solver=newton-cg;, score=0.758 total time=   0.0s\n",
            "[CV 5/5] END C=0.1, penalty=l2, solver=newton-cg;, score=0.788 total time=   0.0s\n",
            "[CV 1/5] END ...C=0.1, penalty=l2, solver=lbfgs;, score=0.676 total time=   0.0s\n",
            "[CV 2/5] END ...C=0.1, penalty=l2, solver=lbfgs;, score=0.697 total time=   0.0s\n",
            "[CV 3/5] END ...C=0.1, penalty=l2, solver=lbfgs;, score=0.667 total time=   0.0s\n",
            "[CV 4/5] END ...C=0.1, penalty=l2, solver=lbfgs;, score=0.758 total time=   0.0s\n",
            "[CV 5/5] END ...C=0.1, penalty=l2, solver=lbfgs;, score=0.788 total time=   0.0s\n",
            "[CV 1/5] END C=0.1, penalty=l2, solver=liblinear;, score=0.676 total time=   0.0s\n",
            "[CV 2/5] END C=0.1, penalty=l2, solver=liblinear;, score=0.667 total time=   0.0s\n",
            "[CV 3/5] END C=0.1, penalty=l2, solver=liblinear;, score=0.697 total time=   0.0s\n",
            "[CV 4/5] END C=0.1, penalty=l2, solver=liblinear;, score=0.636 total time=   0.0s\n",
            "[CV 5/5] END C=0.1, penalty=l2, solver=liblinear;, score=0.788 total time=   0.0s\n",
            "[CV 1/5] END .....C=0.1, penalty=l2, solver=sag;, score=0.676 total time=   0.0s\n",
            "[CV 2/5] END .....C=0.1, penalty=l2, solver=sag;, score=0.697 total time=   0.0s\n",
            "[CV 3/5] END .....C=0.1, penalty=l2, solver=sag;, score=0.667 total time=   0.0s\n",
            "[CV 4/5] END .....C=0.1, penalty=l2, solver=sag;, score=0.758 total time=   0.0s\n",
            "[CV 5/5] END .....C=0.1, penalty=l2, solver=sag;, score=0.788 total time=   0.0s\n",
            "[CV 1/5] END ....C=0.1, penalty=l2, solver=saga;, score=0.676 total time=   0.0s\n",
            "[CV 2/5] END ....C=0.1, penalty=l2, solver=saga;, score=0.697 total time=   0.0s\n",
            "[CV 3/5] END ....C=0.1, penalty=l2, solver=saga;, score=0.667 total time=   0.0s\n",
            "[CV 4/5] END ....C=0.1, penalty=l2, solver=saga;, score=0.758 total time=   0.0s\n",
            "[CV 5/5] END ....C=0.1, penalty=l2, solver=saga;, score=0.788 total time=   0.0s\n",
            "[CV 1/5] END C=0.2, penalty=l2, solver=newton-cg;, score=0.765 total time=   0.0s\n",
            "[CV 2/5] END C=0.2, penalty=l2, solver=newton-cg;, score=0.758 total time=   0.0s\n",
            "[CV 3/5] END C=0.2, penalty=l2, solver=newton-cg;, score=0.667 total time=   0.0s\n",
            "[CV 4/5] END C=0.2, penalty=l2, solver=newton-cg;, score=0.788 total time=   0.0s\n",
            "[CV 5/5] END C=0.2, penalty=l2, solver=newton-cg;, score=0.848 total time=   0.0s\n",
            "[CV 1/5] END ...C=0.2, penalty=l2, solver=lbfgs;, score=0.765 total time=   0.0s\n",
            "[CV 2/5] END ...C=0.2, penalty=l2, solver=lbfgs;, score=0.758 total time=   0.0s\n",
            "[CV 3/5] END ...C=0.2, penalty=l2, solver=lbfgs;, score=0.667 total time=   0.0s\n",
            "[CV 4/5] END ...C=0.2, penalty=l2, solver=lbfgs;, score=0.788 total time=   0.0s\n",
            "[CV 5/5] END ...C=0.2, penalty=l2, solver=lbfgs;, score=0.848 total time=   0.0s\n",
            "[CV 1/5] END C=0.2, penalty=l2, solver=liblinear;, score=0.706 total time=   0.0s\n",
            "[CV 2/5] END C=0.2, penalty=l2, solver=liblinear;, score=0.788 total time=   0.0s\n",
            "[CV 3/5] END C=0.2, penalty=l2, solver=liblinear;, score=0.667 total time=   0.0s\n",
            "[CV 4/5] END C=0.2, penalty=l2, solver=liblinear;, score=0.758 total time=   0.0s\n",
            "[CV 5/5] END C=0.2, penalty=l2, solver=liblinear;, score=0.788 total time=   0.0s\n",
            "[CV 1/5] END .....C=0.2, penalty=l2, solver=sag;, score=0.765 total time=   0.0s\n",
            "[CV 2/5] END .....C=0.2, penalty=l2, solver=sag;, score=0.758 total time=   0.0s\n",
            "[CV 3/5] END .....C=0.2, penalty=l2, solver=sag;, score=0.667 total time=   0.0s\n",
            "[CV 4/5] END .....C=0.2, penalty=l2, solver=sag;, score=0.788 total time=   0.0s\n",
            "[CV 5/5] END .....C=0.2, penalty=l2, solver=sag;, score=0.848 total time=   0.0s\n",
            "[CV 1/5] END ....C=0.2, penalty=l2, solver=saga;, score=0.765 total time=   0.0s\n",
            "[CV 2/5] END ....C=0.2, penalty=l2, solver=saga;, score=0.758 total time=   0.0s\n",
            "[CV 3/5] END ....C=0.2, penalty=l2, solver=saga;, score=0.667 total time=   0.0s\n",
            "[CV 4/5] END ....C=0.2, penalty=l2, solver=saga;, score=0.788 total time=   0.0s\n",
            "[CV 5/5] END ....C=0.2, penalty=l2, solver=saga;, score=0.848 total time=   0.0s\n",
            "[CV 1/5] END C=0.3, penalty=l2, solver=newton-cg;, score=0.735 total time=   0.0s\n",
            "[CV 2/5] END C=0.3, penalty=l2, solver=newton-cg;, score=0.788 total time=   0.0s\n",
            "[CV 3/5] END C=0.3, penalty=l2, solver=newton-cg;, score=0.697 total time=   0.0s\n",
            "[CV 4/5] END C=0.3, penalty=l2, solver=newton-cg;, score=0.818 total time=   0.0s\n",
            "[CV 5/5] END C=0.3, penalty=l2, solver=newton-cg;, score=0.848 total time=   0.0s\n",
            "[CV 1/5] END ...C=0.3, penalty=l2, solver=lbfgs;, score=0.735 total time=   0.0s\n",
            "[CV 2/5] END ...C=0.3, penalty=l2, solver=lbfgs;, score=0.788 total time=   0.0s\n",
            "[CV 3/5] END ...C=0.3, penalty=l2, solver=lbfgs;, score=0.697 total time=   0.0s\n",
            "[CV 4/5] END ...C=0.3, penalty=l2, solver=lbfgs;, score=0.818 total time=   0.0s\n",
            "[CV 5/5] END ...C=0.3, penalty=l2, solver=lbfgs;, score=0.848 total time=   0.0s\n",
            "[CV 1/5] END C=0.3, penalty=l2, solver=liblinear;, score=0.706 total time=   0.0s\n",
            "[CV 2/5] END C=0.3, penalty=l2, solver=liblinear;, score=0.758 total time=   0.0s\n",
            "[CV 3/5] END C=0.3, penalty=l2, solver=liblinear;, score=0.697 total time=   0.0s\n",
            "[CV 4/5] END C=0.3, penalty=l2, solver=liblinear;, score=0.758 total time=   0.0s\n",
            "[CV 5/5] END C=0.3, penalty=l2, solver=liblinear;, score=0.879 total time=   0.0s\n",
            "[CV 1/5] END .....C=0.3, penalty=l2, solver=sag;, score=0.735 total time=   0.0s\n",
            "[CV 2/5] END .....C=0.3, penalty=l2, solver=sag;, score=0.788 total time=   0.0s\n",
            "[CV 3/5] END .....C=0.3, penalty=l2, solver=sag;, score=0.697 total time=   0.0s\n",
            "[CV 4/5] END .....C=0.3, penalty=l2, solver=sag;, score=0.818 total time=   0.0s\n",
            "[CV 5/5] END .....C=0.3, penalty=l2, solver=sag;, score=0.848 total time=   0.0s\n",
            "[CV 1/5] END ....C=0.3, penalty=l2, solver=saga;, score=0.735 total time=   0.0s\n",
            "[CV 2/5] END ....C=0.3, penalty=l2, solver=saga;, score=0.788 total time=   0.0s\n",
            "[CV 3/5] END ....C=0.3, penalty=l2, solver=saga;, score=0.697 total time=   0.0s\n",
            "[CV 4/5] END ....C=0.3, penalty=l2, solver=saga;, score=0.818 total time=   0.0s\n",
            "[CV 5/5] END ....C=0.3, penalty=l2, solver=saga;, score=0.848 total time=   0.0s\n",
            "[CV 1/5] END C=0.4, penalty=l2, solver=newton-cg;, score=0.735 total time=   0.0s\n",
            "[CV 2/5] END C=0.4, penalty=l2, solver=newton-cg;, score=0.788 total time=   0.0s\n",
            "[CV 3/5] END C=0.4, penalty=l2, solver=newton-cg;, score=0.727 total time=   0.0s\n",
            "[CV 4/5] END C=0.4, penalty=l2, solver=newton-cg;, score=0.818 total time=   0.0s\n",
            "[CV 5/5] END C=0.4, penalty=l2, solver=newton-cg;, score=0.879 total time=   0.0s\n",
            "[CV 1/5] END ...C=0.4, penalty=l2, solver=lbfgs;, score=0.735 total time=   0.0s\n",
            "[CV 2/5] END ...C=0.4, penalty=l2, solver=lbfgs;, score=0.788 total time=   0.0s\n",
            "[CV 3/5] END ...C=0.4, penalty=l2, solver=lbfgs;, score=0.727 total time=   0.0s\n",
            "[CV 4/5] END ...C=0.4, penalty=l2, solver=lbfgs;, score=0.818 total time=   0.0s\n",
            "[CV 5/5] END ...C=0.4, penalty=l2, solver=lbfgs;, score=0.879 total time=   0.0s\n",
            "[CV 1/5] END C=0.4, penalty=l2, solver=liblinear;, score=0.706 total time=   0.0s\n",
            "[CV 2/5] END C=0.4, penalty=l2, solver=liblinear;, score=0.758 total time=   0.0s\n",
            "[CV 3/5] END C=0.4, penalty=l2, solver=liblinear;, score=0.697 total time=   0.0s\n",
            "[CV 4/5] END C=0.4, penalty=l2, solver=liblinear;, score=0.758 total time=   0.0s\n",
            "[CV 5/5] END C=0.4, penalty=l2, solver=liblinear;, score=0.879 total time=   0.0s\n",
            "[CV 1/5] END .....C=0.4, penalty=l2, solver=sag;, score=0.735 total time=   0.0s\n",
            "[CV 2/5] END .....C=0.4, penalty=l2, solver=sag;, score=0.788 total time=   0.0s\n",
            "[CV 3/5] END .....C=0.4, penalty=l2, solver=sag;, score=0.727 total time=   0.0s\n",
            "[CV 4/5] END .....C=0.4, penalty=l2, solver=sag;, score=0.818 total time=   0.0s\n",
            "[CV 5/5] END .....C=0.4, penalty=l2, solver=sag;, score=0.879 total time=   0.0s\n",
            "[CV 1/5] END ....C=0.4, penalty=l2, solver=saga;, score=0.735 total time=   0.0s\n",
            "[CV 2/5] END ....C=0.4, penalty=l2, solver=saga;, score=0.788 total time=   0.0s\n",
            "[CV 3/5] END ....C=0.4, penalty=l2, solver=saga;, score=0.727 total time=   0.0s\n",
            "[CV 4/5] END ....C=0.4, penalty=l2, solver=saga;, score=0.818 total time=   0.0s\n",
            "[CV 5/5] END ....C=0.4, penalty=l2, solver=saga;, score=0.879 total time=   0.0s\n",
            "[CV 1/5] END C=0.5, penalty=l2, solver=newton-cg;, score=0.765 total time=   0.0s\n",
            "[CV 2/5] END C=0.5, penalty=l2, solver=newton-cg;, score=0.788 total time=   0.0s\n",
            "[CV 3/5] END C=0.5, penalty=l2, solver=newton-cg;, score=0.727 total time=   0.0s\n",
            "[CV 4/5] END C=0.5, penalty=l2, solver=newton-cg;, score=0.788 total time=   0.0s\n",
            "[CV 5/5] END C=0.5, penalty=l2, solver=newton-cg;, score=0.879 total time=   0.0s\n",
            "[CV 1/5] END ...C=0.5, penalty=l2, solver=lbfgs;, score=0.765 total time=   0.0s\n",
            "[CV 2/5] END ...C=0.5, penalty=l2, solver=lbfgs;, score=0.788 total time=   0.0s\n",
            "[CV 3/5] END ...C=0.5, penalty=l2, solver=lbfgs;, score=0.727 total time=   0.0s\n",
            "[CV 4/5] END ...C=0.5, penalty=l2, solver=lbfgs;, score=0.788 total time=   0.0s\n",
            "[CV 5/5] END ...C=0.5, penalty=l2, solver=lbfgs;, score=0.879 total time=   0.0s\n",
            "[CV 1/5] END C=0.5, penalty=l2, solver=liblinear;, score=0.706 total time=   0.0s\n",
            "[CV 2/5] END C=0.5, penalty=l2, solver=liblinear;, score=0.758 total time=   0.0s\n",
            "[CV 3/5] END C=0.5, penalty=l2, solver=liblinear;, score=0.697 total time=   0.0s\n",
            "[CV 4/5] END C=0.5, penalty=l2, solver=liblinear;, score=0.758 total time=   0.0s\n",
            "[CV 5/5] END C=0.5, penalty=l2, solver=liblinear;, score=0.879 total time=   0.0s\n",
            "[CV 1/5] END .....C=0.5, penalty=l2, solver=sag;, score=0.765 total time=   0.0s\n",
            "[CV 2/5] END .....C=0.5, penalty=l2, solver=sag;, score=0.788 total time=   0.0s\n",
            "[CV 3/5] END .....C=0.5, penalty=l2, solver=sag;, score=0.727 total time=   0.0s\n",
            "[CV 4/5] END .....C=0.5, penalty=l2, solver=sag;, score=0.788 total time=   0.0s\n",
            "[CV 5/5] END .....C=0.5, penalty=l2, solver=sag;, score=0.879 total time=   0.0s\n",
            "[CV 1/5] END ....C=0.5, penalty=l2, solver=saga;, score=0.765 total time=   0.0s\n",
            "[CV 2/5] END ....C=0.5, penalty=l2, solver=saga;, score=0.788 total time=   0.0s\n",
            "[CV 3/5] END ....C=0.5, penalty=l2, solver=saga;, score=0.727 total time=   0.0s\n",
            "[CV 4/5] END ....C=0.5, penalty=l2, solver=saga;, score=0.788 total time=   0.0s\n",
            "[CV 5/5] END ....C=0.5, penalty=l2, solver=saga;, score=0.879 total time=   0.0s\n",
            "[CV 1/5] END C=0.6, penalty=l2, solver=newton-cg;, score=0.765 total time=   0.0s\n",
            "[CV 2/5] END C=0.6, penalty=l2, solver=newton-cg;, score=0.788 total time=   0.0s\n",
            "[CV 3/5] END C=0.6, penalty=l2, solver=newton-cg;, score=0.727 total time=   0.0s\n",
            "[CV 4/5] END C=0.6, penalty=l2, solver=newton-cg;, score=0.788 total time=   0.0s\n",
            "[CV 5/5] END C=0.6, penalty=l2, solver=newton-cg;, score=0.879 total time=   0.0s\n",
            "[CV 1/5] END ...C=0.6, penalty=l2, solver=lbfgs;, score=0.765 total time=   0.0s\n",
            "[CV 2/5] END ...C=0.6, penalty=l2, solver=lbfgs;, score=0.788 total time=   0.0s\n",
            "[CV 3/5] END ...C=0.6, penalty=l2, solver=lbfgs;, score=0.727 total time=   0.0s\n",
            "[CV 4/5] END ...C=0.6, penalty=l2, solver=lbfgs;, score=0.788 total time=   0.0s\n",
            "[CV 5/5] END ...C=0.6, penalty=l2, solver=lbfgs;, score=0.879 total time=   0.0s\n",
            "[CV 1/5] END C=0.6, penalty=l2, solver=liblinear;, score=0.706 total time=   0.0s\n",
            "[CV 2/5] END C=0.6, penalty=l2, solver=liblinear;, score=0.758 total time=   0.0s\n",
            "[CV 3/5] END C=0.6, penalty=l2, solver=liblinear;, score=0.697 total time=   0.0s\n",
            "[CV 4/5] END C=0.6, penalty=l2, solver=liblinear;, score=0.758 total time=   0.0s\n",
            "[CV 5/5] END C=0.6, penalty=l2, solver=liblinear;, score=0.879 total time=   0.0s\n",
            "[CV 1/5] END .....C=0.6, penalty=l2, solver=sag;, score=0.765 total time=   0.0s\n",
            "[CV 2/5] END .....C=0.6, penalty=l2, solver=sag;, score=0.788 total time=   0.0s\n",
            "[CV 3/5] END .....C=0.6, penalty=l2, solver=sag;, score=0.727 total time=   0.0s\n",
            "[CV 4/5] END .....C=0.6, penalty=l2, solver=sag;, score=0.788 total time=   0.0s\n",
            "[CV 5/5] END .....C=0.6, penalty=l2, solver=sag;, score=0.879 total time=   0.0s\n",
            "[CV 1/5] END ....C=0.6, penalty=l2, solver=saga;, score=0.765 total time=   0.0s\n",
            "[CV 2/5] END ....C=0.6, penalty=l2, solver=saga;, score=0.788 total time=   0.0s\n",
            "[CV 3/5] END ....C=0.6, penalty=l2, solver=saga;, score=0.727 total time=   0.0s\n",
            "[CV 4/5] END ....C=0.6, penalty=l2, solver=saga;, score=0.788 total time=   0.0s\n"
          ]
        },
        {
          "output_type": "stream",
          "name": "stderr",
          "text": [
            "/usr/local/lib/python3.7/dist-packages/sklearn/linear_model/_sag.py:354: ConvergenceWarning: The max_iter was reached which means the coef_ did not converge\n",
            "  ConvergenceWarning,\n",
            "/usr/local/lib/python3.7/dist-packages/sklearn/linear_model/_sag.py:354: ConvergenceWarning: The max_iter was reached which means the coef_ did not converge\n",
            "  ConvergenceWarning,\n",
            "/usr/local/lib/python3.7/dist-packages/sklearn/linear_model/_sag.py:354: ConvergenceWarning: The max_iter was reached which means the coef_ did not converge\n",
            "  ConvergenceWarning,\n",
            "/usr/local/lib/python3.7/dist-packages/sklearn/linear_model/_sag.py:354: ConvergenceWarning: The max_iter was reached which means the coef_ did not converge\n",
            "  ConvergenceWarning,\n"
          ]
        },
        {
          "output_type": "stream",
          "name": "stdout",
          "text": [
            "[CV 5/5] END ....C=0.6, penalty=l2, solver=saga;, score=0.879 total time=   0.0s\n",
            "[CV 1/5] END C=0.7, penalty=l2, solver=newton-cg;, score=0.765 total time=   0.0s\n",
            "[CV 2/5] END C=0.7, penalty=l2, solver=newton-cg;, score=0.788 total time=   0.0s\n",
            "[CV 3/5] END C=0.7, penalty=l2, solver=newton-cg;, score=0.758 total time=   0.0s\n",
            "[CV 4/5] END C=0.7, penalty=l2, solver=newton-cg;, score=0.788 total time=   0.0s\n",
            "[CV 5/5] END C=0.7, penalty=l2, solver=newton-cg;, score=0.879 total time=   0.0s\n",
            "[CV 1/5] END ...C=0.7, penalty=l2, solver=lbfgs;, score=0.765 total time=   0.0s\n",
            "[CV 2/5] END ...C=0.7, penalty=l2, solver=lbfgs;, score=0.788 total time=   0.0s\n",
            "[CV 3/5] END ...C=0.7, penalty=l2, solver=lbfgs;, score=0.758 total time=   0.0s\n",
            "[CV 4/5] END ...C=0.7, penalty=l2, solver=lbfgs;, score=0.788 total time=   0.0s\n",
            "[CV 5/5] END ...C=0.7, penalty=l2, solver=lbfgs;, score=0.879 total time=   0.0s\n",
            "[CV 1/5] END C=0.7, penalty=l2, solver=liblinear;, score=0.735 total time=   0.0s\n",
            "[CV 2/5] END C=0.7, penalty=l2, solver=liblinear;, score=0.758 total time=   0.0s\n",
            "[CV 3/5] END C=0.7, penalty=l2, solver=liblinear;, score=0.697 total time=   0.0s\n",
            "[CV 4/5] END C=0.7, penalty=l2, solver=liblinear;, score=0.758 total time=   0.0s\n",
            "[CV 5/5] END C=0.7, penalty=l2, solver=liblinear;, score=0.879 total time=   0.0s\n",
            "[CV 1/5] END .....C=0.7, penalty=l2, solver=sag;, score=0.765 total time=   0.0s\n",
            "[CV 2/5] END .....C=0.7, penalty=l2, solver=sag;, score=0.788 total time=   0.0s\n",
            "[CV 3/5] END .....C=0.7, penalty=l2, solver=sag;, score=0.758 total time=   0.0s\n",
            "[CV 4/5] END .....C=0.7, penalty=l2, solver=sag;, score=0.788 total time=   0.0s\n",
            "[CV 5/5] END .....C=0.7, penalty=l2, solver=sag;, score=0.879 total time=   0.0s\n",
            "[CV 1/5] END ....C=0.7, penalty=l2, solver=saga;, score=0.765 total time=   0.0s\n",
            "[CV 2/5] END ....C=0.7, penalty=l2, solver=saga;, score=0.788 total time=   0.0s\n",
            "[CV 3/5] END ....C=0.7, penalty=l2, solver=saga;, score=0.758 total time=   0.0s\n",
            "[CV 4/5] END ....C=0.7, penalty=l2, solver=saga;, score=0.788 total time=   0.0s\n",
            "[CV 5/5] END ....C=0.7, penalty=l2, solver=saga;, score=0.879 total time=   0.0s\n",
            "[CV 1/5] END C=0.8, penalty=l2, solver=newton-cg;, score=0.765 total time=   0.0s\n",
            "[CV 2/5] END C=0.8, penalty=l2, solver=newton-cg;, score=0.788 total time=   0.0s\n",
            "[CV 3/5] END C=0.8, penalty=l2, solver=newton-cg;, score=0.758 total time=   0.0s\n",
            "[CV 4/5] END C=0.8, penalty=l2, solver=newton-cg;, score=0.758 total time=   0.0s\n",
            "[CV 5/5] END C=0.8, penalty=l2, solver=newton-cg;, score=0.879 total time=   0.0s\n",
            "[CV 1/5] END ...C=0.8, penalty=l2, solver=lbfgs;, score=0.765 total time=   0.0s\n"
          ]
        },
        {
          "output_type": "stream",
          "name": "stderr",
          "text": [
            "/usr/local/lib/python3.7/dist-packages/sklearn/linear_model/_sag.py:354: ConvergenceWarning: The max_iter was reached which means the coef_ did not converge\n",
            "  ConvergenceWarning,\n",
            "/usr/local/lib/python3.7/dist-packages/sklearn/linear_model/_sag.py:354: ConvergenceWarning: The max_iter was reached which means the coef_ did not converge\n",
            "  ConvergenceWarning,\n",
            "/usr/local/lib/python3.7/dist-packages/sklearn/linear_model/_sag.py:354: ConvergenceWarning: The max_iter was reached which means the coef_ did not converge\n",
            "  ConvergenceWarning,\n",
            "/usr/local/lib/python3.7/dist-packages/sklearn/linear_model/_sag.py:354: ConvergenceWarning: The max_iter was reached which means the coef_ did not converge\n",
            "  ConvergenceWarning,\n",
            "/usr/local/lib/python3.7/dist-packages/sklearn/linear_model/_sag.py:354: ConvergenceWarning: The max_iter was reached which means the coef_ did not converge\n",
            "  ConvergenceWarning,\n"
          ]
        },
        {
          "output_type": "stream",
          "name": "stdout",
          "text": [
            "[CV 2/5] END ...C=0.8, penalty=l2, solver=lbfgs;, score=0.788 total time=   0.0s\n",
            "[CV 3/5] END ...C=0.8, penalty=l2, solver=lbfgs;, score=0.758 total time=   0.0s\n",
            "[CV 4/5] END ...C=0.8, penalty=l2, solver=lbfgs;, score=0.758 total time=   0.0s\n",
            "[CV 5/5] END ...C=0.8, penalty=l2, solver=lbfgs;, score=0.879 total time=   0.0s\n",
            "[CV 1/5] END C=0.8, penalty=l2, solver=liblinear;, score=0.735 total time=   0.0s\n",
            "[CV 2/5] END C=0.8, penalty=l2, solver=liblinear;, score=0.758 total time=   0.0s\n",
            "[CV 3/5] END C=0.8, penalty=l2, solver=liblinear;, score=0.727 total time=   0.0s\n",
            "[CV 4/5] END C=0.8, penalty=l2, solver=liblinear;, score=0.758 total time=   0.0s\n",
            "[CV 5/5] END C=0.8, penalty=l2, solver=liblinear;, score=0.879 total time=   0.0s\n",
            "[CV 1/5] END .....C=0.8, penalty=l2, solver=sag;, score=0.765 total time=   0.0s\n",
            "[CV 2/5] END .....C=0.8, penalty=l2, solver=sag;, score=0.788 total time=   0.0s\n",
            "[CV 3/5] END .....C=0.8, penalty=l2, solver=sag;, score=0.758 total time=   0.0s\n",
            "[CV 4/5] END .....C=0.8, penalty=l2, solver=sag;, score=0.758 total time=   0.0s\n",
            "[CV 5/5] END .....C=0.8, penalty=l2, solver=sag;, score=0.879 total time=   0.0s\n",
            "[CV 1/5] END ....C=0.8, penalty=l2, solver=saga;, score=0.765 total time=   0.0s\n",
            "[CV 2/5] END ....C=0.8, penalty=l2, solver=saga;, score=0.788 total time=   0.0s\n",
            "[CV 3/5] END ....C=0.8, penalty=l2, solver=saga;, score=0.758 total time=   0.0s\n",
            "[CV 4/5] END ....C=0.8, penalty=l2, solver=saga;, score=0.758 total time=   0.0s\n"
          ]
        },
        {
          "output_type": "stream",
          "name": "stderr",
          "text": [
            "/usr/local/lib/python3.7/dist-packages/sklearn/linear_model/_sag.py:354: ConvergenceWarning: The max_iter was reached which means the coef_ did not converge\n",
            "  ConvergenceWarning,\n",
            "/usr/local/lib/python3.7/dist-packages/sklearn/linear_model/_sag.py:354: ConvergenceWarning: The max_iter was reached which means the coef_ did not converge\n",
            "  ConvergenceWarning,\n",
            "/usr/local/lib/python3.7/dist-packages/sklearn/linear_model/_sag.py:354: ConvergenceWarning: The max_iter was reached which means the coef_ did not converge\n",
            "  ConvergenceWarning,\n",
            "/usr/local/lib/python3.7/dist-packages/sklearn/linear_model/_sag.py:354: ConvergenceWarning: The max_iter was reached which means the coef_ did not converge\n",
            "  ConvergenceWarning,\n"
          ]
        },
        {
          "output_type": "stream",
          "name": "stdout",
          "text": [
            "[CV 5/5] END ....C=0.8, penalty=l2, solver=saga;, score=0.879 total time=   0.0s\n",
            "[CV 1/5] END C=0.9, penalty=l2, solver=newton-cg;, score=0.765 total time=   0.0s\n",
            "[CV 2/5] END C=0.9, penalty=l2, solver=newton-cg;, score=0.758 total time=   0.0s\n",
            "[CV 3/5] END C=0.9, penalty=l2, solver=newton-cg;, score=0.758 total time=   0.0s\n",
            "[CV 4/5] END C=0.9, penalty=l2, solver=newton-cg;, score=0.758 total time=   0.0s\n",
            "[CV 5/5] END C=0.9, penalty=l2, solver=newton-cg;, score=0.879 total time=   0.0s\n",
            "[CV 1/5] END ...C=0.9, penalty=l2, solver=lbfgs;, score=0.765 total time=   0.0s\n",
            "[CV 2/5] END ...C=0.9, penalty=l2, solver=lbfgs;, score=0.758 total time=   0.0s\n",
            "[CV 3/5] END ...C=0.9, penalty=l2, solver=lbfgs;, score=0.758 total time=   0.0s\n",
            "[CV 4/5] END ...C=0.9, penalty=l2, solver=lbfgs;, score=0.758 total time=   0.0s\n",
            "[CV 5/5] END ...C=0.9, penalty=l2, solver=lbfgs;, score=0.879 total time=   0.0s\n",
            "[CV 1/5] END C=0.9, penalty=l2, solver=liblinear;, score=0.706 total time=   0.0s\n",
            "[CV 2/5] END C=0.9, penalty=l2, solver=liblinear;, score=0.758 total time=   0.0s\n",
            "[CV 3/5] END C=0.9, penalty=l2, solver=liblinear;, score=0.727 total time=   0.0s\n",
            "[CV 4/5] END C=0.9, penalty=l2, solver=liblinear;, score=0.727 total time=   0.0s\n",
            "[CV 5/5] END C=0.9, penalty=l2, solver=liblinear;, score=0.848 total time=   0.0s\n",
            "[CV 1/5] END .....C=0.9, penalty=l2, solver=sag;, score=0.765 total time=   0.0s\n",
            "[CV 2/5] END .....C=0.9, penalty=l2, solver=sag;, score=0.758 total time=   0.0s\n",
            "[CV 3/5] END .....C=0.9, penalty=l2, solver=sag;, score=0.758 total time=   0.0s\n",
            "[CV 4/5] END .....C=0.9, penalty=l2, solver=sag;, score=0.758 total time=   0.0s\n",
            "[CV 5/5] END .....C=0.9, penalty=l2, solver=sag;, score=0.879 total time=   0.0s\n",
            "[CV 1/5] END ....C=0.9, penalty=l2, solver=saga;, score=0.765 total time=   0.0s\n",
            "[CV 2/5] END ....C=0.9, penalty=l2, solver=saga;, score=0.758 total time=   0.0s\n",
            "[CV 3/5] END ....C=0.9, penalty=l2, solver=saga;, score=0.758 total time=   0.0s\n",
            "[CV 4/5] END ....C=0.9, penalty=l2, solver=saga;, score=0.758 total time=   0.0s\n",
            "[CV 5/5] END ....C=0.9, penalty=l2, solver=saga;, score=0.879 total time=   0.0s\n",
            "[CV 1/5] END .C=1, penalty=l2, solver=newton-cg;, score=0.765 total time=   0.0s\n",
            "[CV 2/5] END .C=1, penalty=l2, solver=newton-cg;, score=0.758 total time=   0.0s\n",
            "[CV 3/5] END .C=1, penalty=l2, solver=newton-cg;, score=0.758 total time=   0.0s\n",
            "[CV 4/5] END .C=1, penalty=l2, solver=newton-cg;, score=0.758 total time=   0.0s\n",
            "[CV 5/5] END .C=1, penalty=l2, solver=newton-cg;, score=0.879 total time=   0.0s\n",
            "[CV 1/5] END .....C=1, penalty=l2, solver=lbfgs;, score=0.765 total time=   0.0s\n",
            "[CV 2/5] END .....C=1, penalty=l2, solver=lbfgs;, score=0.758 total time=   0.0s\n",
            "[CV 3/5] END .....C=1, penalty=l2, solver=lbfgs;, score=0.758 total time=   0.0s\n"
          ]
        },
        {
          "output_type": "stream",
          "name": "stderr",
          "text": [
            "/usr/local/lib/python3.7/dist-packages/sklearn/linear_model/_sag.py:354: ConvergenceWarning: The max_iter was reached which means the coef_ did not converge\n",
            "  ConvergenceWarning,\n",
            "/usr/local/lib/python3.7/dist-packages/sklearn/linear_model/_sag.py:354: ConvergenceWarning: The max_iter was reached which means the coef_ did not converge\n",
            "  ConvergenceWarning,\n",
            "/usr/local/lib/python3.7/dist-packages/sklearn/linear_model/_sag.py:354: ConvergenceWarning: The max_iter was reached which means the coef_ did not converge\n",
            "  ConvergenceWarning,\n",
            "/usr/local/lib/python3.7/dist-packages/sklearn/linear_model/_sag.py:354: ConvergenceWarning: The max_iter was reached which means the coef_ did not converge\n",
            "  ConvergenceWarning,\n",
            "/usr/local/lib/python3.7/dist-packages/sklearn/linear_model/_sag.py:354: ConvergenceWarning: The max_iter was reached which means the coef_ did not converge\n",
            "  ConvergenceWarning,\n"
          ]
        },
        {
          "output_type": "stream",
          "name": "stdout",
          "text": [
            "[CV 4/5] END .....C=1, penalty=l2, solver=lbfgs;, score=0.758 total time=   0.0s\n",
            "[CV 5/5] END .....C=1, penalty=l2, solver=lbfgs;, score=0.879 total time=   0.0s\n",
            "[CV 1/5] END .C=1, penalty=l2, solver=liblinear;, score=0.735 total time=   0.0s\n",
            "[CV 2/5] END .C=1, penalty=l2, solver=liblinear;, score=0.758 total time=   0.0s\n",
            "[CV 3/5] END .C=1, penalty=l2, solver=liblinear;, score=0.727 total time=   0.0s\n",
            "[CV 4/5] END .C=1, penalty=l2, solver=liblinear;, score=0.727 total time=   0.0s\n",
            "[CV 5/5] END .C=1, penalty=l2, solver=liblinear;, score=0.879 total time=   0.0s\n",
            "[CV 1/5] END .......C=1, penalty=l2, solver=sag;, score=0.765 total time=   0.0s\n",
            "[CV 2/5] END .......C=1, penalty=l2, solver=sag;, score=0.758 total time=   0.0s\n",
            "[CV 3/5] END .......C=1, penalty=l2, solver=sag;, score=0.758 total time=   0.0s\n",
            "[CV 4/5] END .......C=1, penalty=l2, solver=sag;, score=0.758 total time=   0.0s\n",
            "[CV 5/5] END .......C=1, penalty=l2, solver=sag;, score=0.879 total time=   0.0s\n",
            "[CV 1/5] END ......C=1, penalty=l2, solver=saga;, score=0.765 total time=   0.0s\n",
            "[CV 2/5] END ......C=1, penalty=l2, solver=saga;, score=0.758 total time=   0.0s\n",
            "[CV 3/5] END ......C=1, penalty=l2, solver=saga;, score=0.758 total time=   0.0s\n",
            "[CV 4/5] END ......C=1, penalty=l2, solver=saga;, score=0.758 total time=   0.0s\n",
            "[CV 5/5] END ......C=1, penalty=l2, solver=saga;, score=0.879 total time=   0.0s\n"
          ]
        },
        {
          "output_type": "stream",
          "name": "stderr",
          "text": [
            "/usr/local/lib/python3.7/dist-packages/sklearn/linear_model/_sag.py:354: ConvergenceWarning: The max_iter was reached which means the coef_ did not converge\n",
            "  ConvergenceWarning,\n",
            "/usr/local/lib/python3.7/dist-packages/sklearn/linear_model/_sag.py:354: ConvergenceWarning: The max_iter was reached which means the coef_ did not converge\n",
            "  ConvergenceWarning,\n",
            "/usr/local/lib/python3.7/dist-packages/sklearn/linear_model/_sag.py:354: ConvergenceWarning: The max_iter was reached which means the coef_ did not converge\n",
            "  ConvergenceWarning,\n",
            "/usr/local/lib/python3.7/dist-packages/sklearn/linear_model/_sag.py:354: ConvergenceWarning: The max_iter was reached which means the coef_ did not converge\n",
            "  ConvergenceWarning,\n",
            "/usr/local/lib/python3.7/dist-packages/sklearn/linear_model/_sag.py:354: ConvergenceWarning: The max_iter was reached which means the coef_ did not converge\n",
            "  ConvergenceWarning,\n"
          ]
        },
        {
          "output_type": "execute_result",
          "data": {
            "text/plain": [
              "GridSearchCV(cv=5, estimator=LogisticRegression(),\n",
              "             param_grid={'C': [0.1, 0.2, 0.3, 0.4, 0.5, 0.6, 0.7, 0.8, 0.9, 1],\n",
              "                         'penalty': ['l2'],\n",
              "                         'solver': ['newton-cg', 'lbfgs', 'liblinear', 'sag',\n",
              "                                    'saga']},\n",
              "             verbose=4)"
            ]
          },
          "metadata": {},
          "execution_count": 14
        }
      ]
    },
    {
      "cell_type": "code",
      "source": [
        "results = pd.DataFrame(classifier.cv_results_)\n",
        "results.head()"
      ],
      "metadata": {
        "colab": {
          "base_uri": "https://localhost:8080/",
          "height": 617
        },
        "id": "TaGBOVtgaJK0",
        "outputId": "4801d8aa-c7df-40b3-da8f-d773af86aecc"
      },
      "execution_count": 15,
      "outputs": [
        {
          "output_type": "execute_result",
          "data": {
            "text/plain": [
              "   mean_fit_time  std_fit_time  mean_score_time  std_score_time param_C  \\\n",
              "0       0.009484      0.002287         0.001906        0.000075     0.1   \n",
              "1       0.008346      0.001573         0.002272        0.000529     0.1   \n",
              "2       0.004144      0.000102         0.001889        0.000044     0.1   \n",
              "3       0.006090      0.000632         0.002391        0.001205     0.1   \n",
              "4       0.009391      0.001120         0.001864        0.000046     0.1   \n",
              "\n",
              "  param_penalty param_solver  \\\n",
              "0            l2    newton-cg   \n",
              "1            l2        lbfgs   \n",
              "2            l2    liblinear   \n",
              "3            l2          sag   \n",
              "4            l2         saga   \n",
              "\n",
              "                                              params  split0_test_score  \\\n",
              "0  {'C': 0.1, 'penalty': 'l2', 'solver': 'newton-...           0.676471   \n",
              "1     {'C': 0.1, 'penalty': 'l2', 'solver': 'lbfgs'}           0.676471   \n",
              "2  {'C': 0.1, 'penalty': 'l2', 'solver': 'libline...           0.676471   \n",
              "3       {'C': 0.1, 'penalty': 'l2', 'solver': 'sag'}           0.676471   \n",
              "4      {'C': 0.1, 'penalty': 'l2', 'solver': 'saga'}           0.676471   \n",
              "\n",
              "   split1_test_score  split2_test_score  split3_test_score  split4_test_score  \\\n",
              "0           0.696970           0.666667           0.757576           0.787879   \n",
              "1           0.696970           0.666667           0.757576           0.787879   \n",
              "2           0.666667           0.696970           0.636364           0.787879   \n",
              "3           0.696970           0.666667           0.757576           0.787879   \n",
              "4           0.696970           0.666667           0.757576           0.787879   \n",
              "\n",
              "   mean_test_score  std_test_score  rank_test_score  \n",
              "0         0.717112        0.047429               46  \n",
              "1         0.717112        0.047429               46  \n",
              "2         0.692870        0.051365               50  \n",
              "3         0.717112        0.047429               46  \n",
              "4         0.717112        0.047429               46  "
            ],
            "text/html": [
              "\n",
              "  <div id=\"df-f4e08a2f-1193-4765-954c-a31d9bfcd870\">\n",
              "    <div class=\"colab-df-container\">\n",
              "      <div>\n",
              "<style scoped>\n",
              "    .dataframe tbody tr th:only-of-type {\n",
              "        vertical-align: middle;\n",
              "    }\n",
              "\n",
              "    .dataframe tbody tr th {\n",
              "        vertical-align: top;\n",
              "    }\n",
              "\n",
              "    .dataframe thead th {\n",
              "        text-align: right;\n",
              "    }\n",
              "</style>\n",
              "<table border=\"1\" class=\"dataframe\">\n",
              "  <thead>\n",
              "    <tr style=\"text-align: right;\">\n",
              "      <th></th>\n",
              "      <th>mean_fit_time</th>\n",
              "      <th>std_fit_time</th>\n",
              "      <th>mean_score_time</th>\n",
              "      <th>std_score_time</th>\n",
              "      <th>param_C</th>\n",
              "      <th>param_penalty</th>\n",
              "      <th>param_solver</th>\n",
              "      <th>params</th>\n",
              "      <th>split0_test_score</th>\n",
              "      <th>split1_test_score</th>\n",
              "      <th>split2_test_score</th>\n",
              "      <th>split3_test_score</th>\n",
              "      <th>split4_test_score</th>\n",
              "      <th>mean_test_score</th>\n",
              "      <th>std_test_score</th>\n",
              "      <th>rank_test_score</th>\n",
              "    </tr>\n",
              "  </thead>\n",
              "  <tbody>\n",
              "    <tr>\n",
              "      <th>0</th>\n",
              "      <td>0.009484</td>\n",
              "      <td>0.002287</td>\n",
              "      <td>0.001906</td>\n",
              "      <td>0.000075</td>\n",
              "      <td>0.1</td>\n",
              "      <td>l2</td>\n",
              "      <td>newton-cg</td>\n",
              "      <td>{'C': 0.1, 'penalty': 'l2', 'solver': 'newton-...</td>\n",
              "      <td>0.676471</td>\n",
              "      <td>0.696970</td>\n",
              "      <td>0.666667</td>\n",
              "      <td>0.757576</td>\n",
              "      <td>0.787879</td>\n",
              "      <td>0.717112</td>\n",
              "      <td>0.047429</td>\n",
              "      <td>46</td>\n",
              "    </tr>\n",
              "    <tr>\n",
              "      <th>1</th>\n",
              "      <td>0.008346</td>\n",
              "      <td>0.001573</td>\n",
              "      <td>0.002272</td>\n",
              "      <td>0.000529</td>\n",
              "      <td>0.1</td>\n",
              "      <td>l2</td>\n",
              "      <td>lbfgs</td>\n",
              "      <td>{'C': 0.1, 'penalty': 'l2', 'solver': 'lbfgs'}</td>\n",
              "      <td>0.676471</td>\n",
              "      <td>0.696970</td>\n",
              "      <td>0.666667</td>\n",
              "      <td>0.757576</td>\n",
              "      <td>0.787879</td>\n",
              "      <td>0.717112</td>\n",
              "      <td>0.047429</td>\n",
              "      <td>46</td>\n",
              "    </tr>\n",
              "    <tr>\n",
              "      <th>2</th>\n",
              "      <td>0.004144</td>\n",
              "      <td>0.000102</td>\n",
              "      <td>0.001889</td>\n",
              "      <td>0.000044</td>\n",
              "      <td>0.1</td>\n",
              "      <td>l2</td>\n",
              "      <td>liblinear</td>\n",
              "      <td>{'C': 0.1, 'penalty': 'l2', 'solver': 'libline...</td>\n",
              "      <td>0.676471</td>\n",
              "      <td>0.666667</td>\n",
              "      <td>0.696970</td>\n",
              "      <td>0.636364</td>\n",
              "      <td>0.787879</td>\n",
              "      <td>0.692870</td>\n",
              "      <td>0.051365</td>\n",
              "      <td>50</td>\n",
              "    </tr>\n",
              "    <tr>\n",
              "      <th>3</th>\n",
              "      <td>0.006090</td>\n",
              "      <td>0.000632</td>\n",
              "      <td>0.002391</td>\n",
              "      <td>0.001205</td>\n",
              "      <td>0.1</td>\n",
              "      <td>l2</td>\n",
              "      <td>sag</td>\n",
              "      <td>{'C': 0.1, 'penalty': 'l2', 'solver': 'sag'}</td>\n",
              "      <td>0.676471</td>\n",
              "      <td>0.696970</td>\n",
              "      <td>0.666667</td>\n",
              "      <td>0.757576</td>\n",
              "      <td>0.787879</td>\n",
              "      <td>0.717112</td>\n",
              "      <td>0.047429</td>\n",
              "      <td>46</td>\n",
              "    </tr>\n",
              "    <tr>\n",
              "      <th>4</th>\n",
              "      <td>0.009391</td>\n",
              "      <td>0.001120</td>\n",
              "      <td>0.001864</td>\n",
              "      <td>0.000046</td>\n",
              "      <td>0.1</td>\n",
              "      <td>l2</td>\n",
              "      <td>saga</td>\n",
              "      <td>{'C': 0.1, 'penalty': 'l2', 'solver': 'saga'}</td>\n",
              "      <td>0.676471</td>\n",
              "      <td>0.696970</td>\n",
              "      <td>0.666667</td>\n",
              "      <td>0.757576</td>\n",
              "      <td>0.787879</td>\n",
              "      <td>0.717112</td>\n",
              "      <td>0.047429</td>\n",
              "      <td>46</td>\n",
              "    </tr>\n",
              "  </tbody>\n",
              "</table>\n",
              "</div>\n",
              "      <button class=\"colab-df-convert\" onclick=\"convertToInteractive('df-f4e08a2f-1193-4765-954c-a31d9bfcd870')\"\n",
              "              title=\"Convert this dataframe to an interactive table.\"\n",
              "              style=\"display:none;\">\n",
              "        \n",
              "  <svg xmlns=\"http://www.w3.org/2000/svg\" height=\"24px\"viewBox=\"0 0 24 24\"\n",
              "       width=\"24px\">\n",
              "    <path d=\"M0 0h24v24H0V0z\" fill=\"none\"/>\n",
              "    <path d=\"M18.56 5.44l.94 2.06.94-2.06 2.06-.94-2.06-.94-.94-2.06-.94 2.06-2.06.94zm-11 1L8.5 8.5l.94-2.06 2.06-.94-2.06-.94L8.5 2.5l-.94 2.06-2.06.94zm10 10l.94 2.06.94-2.06 2.06-.94-2.06-.94-.94-2.06-.94 2.06-2.06.94z\"/><path d=\"M17.41 7.96l-1.37-1.37c-.4-.4-.92-.59-1.43-.59-.52 0-1.04.2-1.43.59L10.3 9.45l-7.72 7.72c-.78.78-.78 2.05 0 2.83L4 21.41c.39.39.9.59 1.41.59.51 0 1.02-.2 1.41-.59l7.78-7.78 2.81-2.81c.8-.78.8-2.07 0-2.86zM5.41 20L4 18.59l7.72-7.72 1.47 1.35L5.41 20z\"/>\n",
              "  </svg>\n",
              "      </button>\n",
              "      \n",
              "  <style>\n",
              "    .colab-df-container {\n",
              "      display:flex;\n",
              "      flex-wrap:wrap;\n",
              "      gap: 12px;\n",
              "    }\n",
              "\n",
              "    .colab-df-convert {\n",
              "      background-color: #E8F0FE;\n",
              "      border: none;\n",
              "      border-radius: 50%;\n",
              "      cursor: pointer;\n",
              "      display: none;\n",
              "      fill: #1967D2;\n",
              "      height: 32px;\n",
              "      padding: 0 0 0 0;\n",
              "      width: 32px;\n",
              "    }\n",
              "\n",
              "    .colab-df-convert:hover {\n",
              "      background-color: #E2EBFA;\n",
              "      box-shadow: 0px 1px 2px rgba(60, 64, 67, 0.3), 0px 1px 3px 1px rgba(60, 64, 67, 0.15);\n",
              "      fill: #174EA6;\n",
              "    }\n",
              "\n",
              "    [theme=dark] .colab-df-convert {\n",
              "      background-color: #3B4455;\n",
              "      fill: #D2E3FC;\n",
              "    }\n",
              "\n",
              "    [theme=dark] .colab-df-convert:hover {\n",
              "      background-color: #434B5C;\n",
              "      box-shadow: 0px 1px 3px 1px rgba(0, 0, 0, 0.15);\n",
              "      filter: drop-shadow(0px 1px 2px rgba(0, 0, 0, 0.3));\n",
              "      fill: #FFFFFF;\n",
              "    }\n",
              "  </style>\n",
              "\n",
              "      <script>\n",
              "        const buttonEl =\n",
              "          document.querySelector('#df-f4e08a2f-1193-4765-954c-a31d9bfcd870 button.colab-df-convert');\n",
              "        buttonEl.style.display =\n",
              "          google.colab.kernel.accessAllowed ? 'block' : 'none';\n",
              "\n",
              "        async function convertToInteractive(key) {\n",
              "          const element = document.querySelector('#df-f4e08a2f-1193-4765-954c-a31d9bfcd870');\n",
              "          const dataTable =\n",
              "            await google.colab.kernel.invokeFunction('convertToInteractive',\n",
              "                                                     [key], {});\n",
              "          if (!dataTable) return;\n",
              "\n",
              "          const docLinkHtml = 'Like what you see? Visit the ' +\n",
              "            '<a target=\"_blank\" href=https://colab.research.google.com/notebooks/data_table.ipynb>data table notebook</a>'\n",
              "            + ' to learn more about interactive tables.';\n",
              "          element.innerHTML = '';\n",
              "          dataTable['output_type'] = 'display_data';\n",
              "          await google.colab.output.renderOutput(dataTable, element);\n",
              "          const docLink = document.createElement('div');\n",
              "          docLink.innerHTML = docLinkHtml;\n",
              "          element.appendChild(docLink);\n",
              "        }\n",
              "      </script>\n",
              "    </div>\n",
              "  </div>\n",
              "  "
            ]
          },
          "metadata": {},
          "execution_count": 15
        }
      ]
    },
    {
      "cell_type": "code",
      "source": [
        "best_params = classifier.best_params_\n",
        "best_params"
      ],
      "metadata": {
        "colab": {
          "base_uri": "https://localhost:8080/"
        },
        "id": "BcjKDQTTajA5",
        "outputId": "514c75df-9eea-4e11-dd5b-35e61a4cdf8a"
      },
      "execution_count": 16,
      "outputs": [
        {
          "output_type": "execute_result",
          "data": {
            "text/plain": [
              "{'C': 0.7, 'penalty': 'l2', 'solver': 'newton-cg'}"
            ]
          },
          "metadata": {},
          "execution_count": 16
        }
      ]
    },
    {
      "cell_type": "code",
      "source": [
        "pred3 = LR_model('newton-cg',0.7,'l2')"
      ],
      "metadata": {
        "colab": {
          "base_uri": "https://localhost:8080/",
          "height": 709
        },
        "id": "qgUASPQdbHqr",
        "outputId": "e8bd78cb-819a-4c93-b198-a690ccb2798b"
      },
      "execution_count": 17,
      "outputs": [
        {
          "output_type": "display_data",
          "data": {
            "text/plain": [
              "<Figure size 576x576 with 1 Axes>"
            ],
            "image/png": "[encoded data removed]"
          },
          "metadata": {
            "needs_background": "light"
          }
        },
        {
          "output_type": "stream",
          "name": "stdout",
          "text": [
            "Predicted Values are : ['R' 'M' 'R' 'M' 'M' 'M' 'M' 'R' 'M' 'R' 'R' 'M' 'R' 'R' 'R' 'R' 'M' 'M'\n",
            " 'M' 'M' 'M' 'M' 'R' 'R' 'R' 'R' 'R' 'M' 'M' 'R' 'M' 'M' 'R' 'M' 'M' 'M'\n",
            " 'M' 'M' 'M' 'M' 'M' 'R']\n",
            "              precision    recall  f1-score   support\n",
            "\n",
            "           M       0.80      0.91      0.85        22\n",
            "           R       0.88      0.75      0.81        20\n",
            "\n",
            "    accuracy                           0.83        42\n",
            "   macro avg       0.84      0.83      0.83        42\n",
            "weighted avg       0.84      0.83      0.83        42\n",
            "\n",
            "Prediction Accuracy: 83.333 %\n"
          ]
        }
      ]
    },
    {
      "cell_type": "markdown",
      "source": [
        "## Suport Vector Classifiers"
      ],
      "metadata": {
        "id": "MpNuQy3yb-Xr"
      }
    },
    {
      "cell_type": "code",
      "source": [
        "from sklearn.svm import SVC\n",
        "\n",
        "def svc_model(C,kernel,degree,gamma):\n",
        "  svc = SVC(C = C, kernel = kernel, degree = degree, gamma = gamma)\n",
        "  svc.fit(X_train, y_train)\n",
        "  y_pred = svc.predict(X_test)\n",
        "\n",
        "  cr = classification_report(y_test, y_pred)\n",
        "  acc_score = accuracy_score(y_test, y_pred)\n",
        "  cm = confusion_matrix(y_test, y_pred)\n",
        "\n",
        "  fig, ax = plt.subplots(figsize = (8,8))\n",
        "  plt.imshow(cm)\n",
        "  ax.grid(False)\n",
        "  ax.xaxis.set(ticks = (0,1), ticklabels = (\"Predicted 0's\", \"Predicted 1's\"))\n",
        "  ax.yaxis.set(ticks = (0,1), ticklabels = (\"Actual 0's\", \"Actual 1's\"))\n",
        "  ax.set_ylim(1.5, -0.5)\n",
        "  for i in range(2):\n",
        "    for j in range(2):\n",
        "      ax.text(j, i, cm[i, j], ha = 'center', va = 'center', color = 'red')\n",
        "  plt.show()\n",
        "\n",
        "  print(\"Predicted Values are:\", y_pred)\n",
        "  print(cr)\n",
        "  print('Accuracy Score is:',round(acc_score*100),'%')\n"
      ],
      "metadata": {
        "id": "Il5GpUSAb4My"
      },
      "execution_count": 18,
      "outputs": []
    },
    {
      "cell_type": "code",
      "source": [
        "pred4 = svc_model(1, 'poly', 3, 'scale')"
      ],
      "metadata": {
        "colab": {
          "base_uri": "https://localhost:8080/",
          "height": 709
        },
        "id": "0vB44Z-XdJ4N",
        "outputId": "dbd29e49-56f4-4bf2-b81d-99007aa27fda"
      },
      "execution_count": 19,
      "outputs": [
        {
          "output_type": "display_data",
          "data": {
            "text/plain": [
              "<Figure size 576x576 with 1 Axes>"
            ],
            "image/png": "[encoded data removed]"
          },
          "metadata": {
            "needs_background": "light"
          }
        },
        {
          "output_type": "stream",
          "name": "stdout",
          "text": [
            "Predicted Values are: ['R' 'R' 'R' 'R' 'M' 'M' 'M' 'R' 'R' 'R' 'R' 'M' 'R' 'R' 'R' 'R' 'M' 'M'\n",
            " 'M' 'M' 'M' 'M' 'M' 'R' 'R' 'R' 'M' 'M' 'M' 'R' 'R' 'M' 'R' 'M' 'M' 'M'\n",
            " 'M' 'M' 'M' 'M' 'M' 'R']\n",
            "              precision    recall  f1-score   support\n",
            "\n",
            "           M       0.83      0.86      0.84        22\n",
            "           R       0.84      0.80      0.82        20\n",
            "\n",
            "    accuracy                           0.83        42\n",
            "   macro avg       0.83      0.83      0.83        42\n",
            "weighted avg       0.83      0.83      0.83        42\n",
            "\n",
            "Accuracy Score is: 83 %\n"
          ]
        }
      ]
    },
    {
      "cell_type": "code",
      "source": [
        "pred5 = svc_model(2, 'poly', 3, 'scale')"
      ],
      "metadata": {
        "id": "5AiBogqIeOug",
        "colab": {
          "base_uri": "https://localhost:8080/",
          "height": 709
        },
        "outputId": "a80fde53-d6dc-4114-bd26-4de9fcdb1160"
      },
      "execution_count": 20,
      "outputs": [
        {
          "output_type": "display_data",
          "data": {
            "text/plain": [
              "<Figure size 576x576 with 1 Axes>"
            ],
            "image/png": "[encoded data removed]"
          },
          "metadata": {
            "needs_background": "light"
          }
        },
        {
          "output_type": "stream",
          "name": "stdout",
          "text": [
            "Predicted Values are: ['R' 'R' 'R' 'R' 'M' 'M' 'M' 'R' 'M' 'R' 'R' 'M' 'R' 'R' 'R' 'R' 'M' 'M'\n",
            " 'M' 'M' 'M' 'R' 'M' 'R' 'R' 'R' 'M' 'M' 'M' 'R' 'M' 'M' 'R' 'M' 'M' 'M'\n",
            " 'M' 'M' 'M' 'M' 'M' 'R']\n",
            "              precision    recall  f1-score   support\n",
            "\n",
            "           M       0.83      0.91      0.87        22\n",
            "           R       0.89      0.80      0.84        20\n",
            "\n",
            "    accuracy                           0.86        42\n",
            "   macro avg       0.86      0.85      0.86        42\n",
            "weighted avg       0.86      0.86      0.86        42\n",
            "\n",
            "Accuracy Score is: 86 %\n"
          ]
        }
      ]
    },
    {
      "cell_type": "code",
      "source": [
        "pred6 = svc_model(1, 'linear', 2, 'scale')"
      ],
      "metadata": {
        "colab": {
          "base_uri": "https://localhost:8080/",
          "height": 709
        },
        "id": "ta9RKjAfs5uU",
        "outputId": "08de04fc-c342-487d-d155-396c7ea22185"
      },
      "execution_count": 21,
      "outputs": [
        {
          "output_type": "display_data",
          "data": {
            "text/plain": [
              "<Figure size 576x576 with 1 Axes>"
            ],
            "image/png": "[encoded data removed]"
          },
          "metadata": {
            "needs_background": "light"
          }
        },
        {
          "output_type": "stream",
          "name": "stdout",
          "text": [
            "Predicted Values are: ['R' 'M' 'M' 'M' 'M' 'M' 'M' 'R' 'M' 'R' 'R' 'M' 'R' 'R' 'R' 'R' 'M' 'M'\n",
            " 'M' 'M' 'M' 'M' 'M' 'R' 'R' 'R' 'M' 'M' 'M' 'R' 'M' 'M' 'R' 'M' 'M' 'M'\n",
            " 'M' 'M' 'M' 'M' 'M' 'R']\n",
            "              precision    recall  f1-score   support\n",
            "\n",
            "           M       0.75      0.95      0.84        22\n",
            "           R       0.93      0.65      0.76        20\n",
            "\n",
            "    accuracy                           0.81        42\n",
            "   macro avg       0.84      0.80      0.80        42\n",
            "weighted avg       0.84      0.81      0.80        42\n",
            "\n",
            "Accuracy Score is: 81 %\n"
          ]
        }
      ]
    },
    {
      "cell_type": "markdown",
      "source": [
        "Here, we cannot ignore this model as if rocks are predicted as mines, we don't have any problems as we can take safety measures but if mines are predicted as rocks, it would be difficult for us so we need high precision score rather than recall score and hence this model is giving us high precision score of 93%"
      ],
      "metadata": {
        "id": "u9qMFZFouVEa"
      }
    },
    {
      "cell_type": "code",
      "source": [
        "pred7 = svc_model(4.5, 'rbf', 2, 'scale')"
      ],
      "metadata": {
        "colab": {
          "base_uri": "https://localhost:8080/",
          "height": 709
        },
        "id": "bhZguC7EtUPy",
        "outputId": "dd8f0a56-e6a3-44cc-9030-b87aca6213dd"
      },
      "execution_count": 22,
      "outputs": [
        {
          "output_type": "display_data",
          "data": {
            "text/plain": [
              "<Figure size 576x576 with 1 Axes>"
            ],
            "image/png": "[encoded data removed]"
          },
          "metadata": {
            "needs_background": "light"
          }
        },
        {
          "output_type": "stream",
          "name": "stdout",
          "text": [
            "Predicted Values are: ['R' 'R' 'R' 'M' 'M' 'M' 'M' 'R' 'M' 'R' 'R' 'M' 'R' 'R' 'R' 'R' 'M' 'M'\n",
            " 'M' 'M' 'M' 'M' 'M' 'R' 'R' 'R' 'R' 'M' 'M' 'R' 'R' 'M' 'R' 'M' 'M' 'M'\n",
            " 'M' 'M' 'M' 'M' 'M' 'R']\n",
            "              precision    recall  f1-score   support\n",
            "\n",
            "           M       0.88      0.95      0.91        22\n",
            "           R       0.94      0.85      0.89        20\n",
            "\n",
            "    accuracy                           0.90        42\n",
            "   macro avg       0.91      0.90      0.90        42\n",
            "weighted avg       0.91      0.90      0.90        42\n",
            "\n",
            "Accuracy Score is: 90 %\n"
          ]
        }
      ]
    },
    {
      "cell_type": "code",
      "source": [
        "from sklearn.ensemble import RandomForestClassifier\n",
        "\n",
        "model2 = RandomForestClassifier()\n",
        "parameters = { 'n_estimators':[50,100,150,200,300],\n",
        "              'criterion': ['gini','entropy'],\n",
        "              'max_depth':[2,3,4,5,10]}\n",
        "cv = GridSearchCV(model2,parameters,cv=5,verbose=2)"
      ],
      "metadata": {
        "id": "bHNNhW3zuGAc"
      },
      "execution_count": 23,
      "outputs": []
    },
    {
      "cell_type": "code",
      "source": [
        "cv.fit(X_train,y_train)"
      ],
      "metadata": {
        "colab": {
          "base_uri": "https://localhost:8080/"
        },
        "id": "frIZvC1ozBiT",
        "outputId": "20354953-0866-4c3a-a4a3-c554a8a7f755"
      },
      "execution_count": 24,
      "outputs": [
        {
          "output_type": "stream",
          "name": "stdout",
          "text": [
            "Fitting 5 folds for each of 50 candidates, totalling 250 fits\n",
            "[CV] END .......criterion=gini, max_depth=2, n_estimators=50; total time=   0.1s\n",
            "[CV] END .......criterion=gini, max_depth=2, n_estimators=50; total time=   0.1s\n",
            "[CV] END .......criterion=gini, max_depth=2, n_estimators=50; total time=   0.1s\n",
            "[CV] END .......criterion=gini, max_depth=2, n_estimators=50; total time=   0.1s\n",
            "[CV] END .......criterion=gini, max_depth=2, n_estimators=50; total time=   0.1s\n",
            "[CV] END ......criterion=gini, max_depth=2, n_estimators=100; total time=   0.2s\n",
            "[CV] END ......criterion=gini, max_depth=2, n_estimators=100; total time=   0.1s\n",
            "[CV] END ......criterion=gini, max_depth=2, n_estimators=100; total time=   0.1s\n",
            "[CV] END ......criterion=gini, max_depth=2, n_estimators=100; total time=   0.1s\n",
            "[CV] END ......criterion=gini, max_depth=2, n_estimators=100; total time=   0.2s\n",
            "[CV] END ......criterion=gini, max_depth=2, n_estimators=150; total time=   0.3s\n",
            "[CV] END ......criterion=gini, max_depth=2, n_estimators=150; total time=   0.2s\n",
            "[CV] END ......criterion=gini, max_depth=2, n_estimators=150; total time=   0.2s\n",
            "[CV] END ......criterion=gini, max_depth=2, n_estimators=150; total time=   0.2s\n",
            "[CV] END ......criterion=gini, max_depth=2, n_estimators=150; total time=   0.2s\n",
            "[CV] END ......criterion=gini, max_depth=2, n_estimators=200; total time=   0.3s\n",
            "[CV] END ......criterion=gini, max_depth=2, n_estimators=200; total time=   0.3s\n",
            "[CV] END ......criterion=gini, max_depth=2, n_estimators=200; total time=   0.3s\n",
            "[CV] END ......criterion=gini, max_depth=2, n_estimators=200; total time=   0.3s\n",
            "[CV] END ......criterion=gini, max_depth=2, n_estimators=200; total time=   0.3s\n",
            "[CV] END ......criterion=gini, max_depth=2, n_estimators=300; total time=   0.4s\n",
            "[CV] END ......criterion=gini, max_depth=2, n_estimators=300; total time=   0.4s\n",
            "[CV] END ......criterion=gini, max_depth=2, n_estimators=300; total time=   0.4s\n",
            "[CV] END ......criterion=gini, max_depth=2, n_estimators=300; total time=   0.4s\n",
            "[CV] END ......criterion=gini, max_depth=2, n_estimators=300; total time=   0.4s\n",
            "[CV] END .......criterion=gini, max_depth=3, n_estimators=50; total time=   0.1s\n",
            "[CV] END .......criterion=gini, max_depth=3, n_estimators=50; total time=   0.1s\n",
            "[CV] END .......criterion=gini, max_depth=3, n_estimators=50; total time=   0.1s\n",
            "[CV] END .......criterion=gini, max_depth=3, n_estimators=50; total time=   0.1s\n",
            "[CV] END .......criterion=gini, max_depth=3, n_estimators=50; total time=   0.1s\n",
            "[CV] END ......criterion=gini, max_depth=3, n_estimators=100; total time=   0.2s\n",
            "[CV] END ......criterion=gini, max_depth=3, n_estimators=100; total time=   0.1s\n",
            "[CV] END ......criterion=gini, max_depth=3, n_estimators=100; total time=   0.2s\n",
            "[CV] END ......criterion=gini, max_depth=3, n_estimators=100; total time=   0.2s\n",
            "[CV] END ......criterion=gini, max_depth=3, n_estimators=100; total time=   0.2s\n",
            "[CV] END ......criterion=gini, max_depth=3, n_estimators=150; total time=   0.2s\n",
            "[CV] END ......criterion=gini, max_depth=3, n_estimators=150; total time=   0.2s\n",
            "[CV] END ......criterion=gini, max_depth=3, n_estimators=150; total time=   0.2s\n",
            "[CV] END ......criterion=gini, max_depth=3, n_estimators=150; total time=   0.2s\n",
            "[CV] END ......criterion=gini, max_depth=3, n_estimators=150; total time=   0.3s\n",
            "[CV] END ......criterion=gini, max_depth=3, n_estimators=200; total time=   0.6s\n",
            "[CV] END ......criterion=gini, max_depth=3, n_estimators=200; total time=   0.6s\n",
            "[CV] END ......criterion=gini, max_depth=3, n_estimators=200; total time=   0.7s\n",
            "[CV] END ......criterion=gini, max_depth=3, n_estimators=200; total time=   0.7s\n",
            "[CV] END ......criterion=gini, max_depth=3, n_estimators=200; total time=   0.6s\n",
            "[CV] END ......criterion=gini, max_depth=3, n_estimators=300; total time=   1.0s\n",
            "[CV] END ......criterion=gini, max_depth=3, n_estimators=300; total time=   1.0s\n",
            "[CV] END ......criterion=gini, max_depth=3, n_estimators=300; total time=   1.0s\n",
            "[CV] END ......criterion=gini, max_depth=3, n_estimators=300; total time=   0.9s\n",
            "[CV] END ......criterion=gini, max_depth=3, n_estimators=300; total time=   0.9s\n",
            "[CV] END .......criterion=gini, max_depth=4, n_estimators=50; total time=   0.2s\n",
            "[CV] END .......criterion=gini, max_depth=4, n_estimators=50; total time=   0.2s\n",
            "[CV] END .......criterion=gini, max_depth=4, n_estimators=50; total time=   0.2s\n",
            "[CV] END .......criterion=gini, max_depth=4, n_estimators=50; total time=   0.2s\n",
            "[CV] END .......criterion=gini, max_depth=4, n_estimators=50; total time=   0.3s\n",
            "[CV] END ......criterion=gini, max_depth=4, n_estimators=100; total time=   0.5s\n",
            "[CV] END ......criterion=gini, max_depth=4, n_estimators=100; total time=   0.4s\n",
            "[CV] END ......criterion=gini, max_depth=4, n_estimators=100; total time=   0.3s\n",
            "[CV] END ......criterion=gini, max_depth=4, n_estimators=100; total time=   0.4s\n",
            "[CV] END ......criterion=gini, max_depth=4, n_estimators=100; total time=   0.3s\n",
            "[CV] END ......criterion=gini, max_depth=4, n_estimators=150; total time=   0.5s\n",
            "[CV] END ......criterion=gini, max_depth=4, n_estimators=150; total time=   0.5s\n",
            "[CV] END ......criterion=gini, max_depth=4, n_estimators=150; total time=   0.8s\n",
            "[CV] END ......criterion=gini, max_depth=4, n_estimators=150; total time=   0.7s\n",
            "[CV] END ......criterion=gini, max_depth=4, n_estimators=150; total time=   0.6s\n",
            "[CV] END ......criterion=gini, max_depth=4, n_estimators=200; total time=   0.8s\n",
            "[CV] END ......criterion=gini, max_depth=4, n_estimators=200; total time=   0.9s\n",
            "[CV] END ......criterion=gini, max_depth=4, n_estimators=200; total time=   0.6s\n",
            "[CV] END ......criterion=gini, max_depth=4, n_estimators=200; total time=   0.6s\n",
            "[CV] END ......criterion=gini, max_depth=4, n_estimators=200; total time=   0.8s\n",
            "[CV] END ......criterion=gini, max_depth=4, n_estimators=300; total time=   1.1s\n",
            "[CV] END ......criterion=gini, max_depth=4, n_estimators=300; total time=   1.1s\n",
            "[CV] END ......criterion=gini, max_depth=4, n_estimators=300; total time=   1.3s\n",
            "[CV] END ......criterion=gini, max_depth=4, n_estimators=300; total time=   1.0s\n",
            "[CV] END ......criterion=gini, max_depth=4, n_estimators=300; total time=   1.1s\n",
            "[CV] END .......criterion=gini, max_depth=5, n_estimators=50; total time=   0.1s\n",
            "[CV] END .......criterion=gini, max_depth=5, n_estimators=50; total time=   0.3s\n",
            "[CV] END .......criterion=gini, max_depth=5, n_estimators=50; total time=   0.2s\n",
            "[CV] END .......criterion=gini, max_depth=5, n_estimators=50; total time=   0.2s\n",
            "[CV] END .......criterion=gini, max_depth=5, n_estimators=50; total time=   0.2s\n",
            "[CV] END ......criterion=gini, max_depth=5, n_estimators=100; total time=   0.3s\n",
            "[CV] END ......criterion=gini, max_depth=5, n_estimators=100; total time=   0.3s\n",
            "[CV] END ......criterion=gini, max_depth=5, n_estimators=100; total time=   0.4s\n",
            "[CV] END ......criterion=gini, max_depth=5, n_estimators=100; total time=   0.4s\n",
            "[CV] END ......criterion=gini, max_depth=5, n_estimators=100; total time=   0.3s\n",
            "[CV] END ......criterion=gini, max_depth=5, n_estimators=150; total time=   0.5s\n",
            "[CV] END ......criterion=gini, max_depth=5, n_estimators=150; total time=   0.5s\n",
            "[CV] END ......criterion=gini, max_depth=5, n_estimators=150; total time=   0.4s\n",
            "[CV] END ......criterion=gini, max_depth=5, n_estimators=150; total time=   0.2s\n",
            "[CV] END ......criterion=gini, max_depth=5, n_estimators=150; total time=   0.3s\n",
            "[CV] END ......criterion=gini, max_depth=5, n_estimators=200; total time=   0.3s\n",
            "[CV] END ......criterion=gini, max_depth=5, n_estimators=200; total time=   0.3s\n",
            "[CV] END ......criterion=gini, max_depth=5, n_estimators=200; total time=   0.3s\n",
            "[CV] END ......criterion=gini, max_depth=5, n_estimators=200; total time=   0.3s\n",
            "[CV] END ......criterion=gini, max_depth=5, n_estimators=200; total time=   0.3s\n",
            "[CV] END ......criterion=gini, max_depth=5, n_estimators=300; total time=   0.5s\n",
            "[CV] END ......criterion=gini, max_depth=5, n_estimators=300; total time=   0.5s\n",
            "[CV] END ......criterion=gini, max_depth=5, n_estimators=300; total time=   0.5s\n",
            "[CV] END ......criterion=gini, max_depth=5, n_estimators=300; total time=   0.5s\n",
            "[CV] END ......criterion=gini, max_depth=5, n_estimators=300; total time=   0.5s\n",
            "[CV] END ......criterion=gini, max_depth=10, n_estimators=50; total time=   0.1s\n",
            "[CV] END ......criterion=gini, max_depth=10, n_estimators=50; total time=   0.1s\n",
            "[CV] END ......criterion=gini, max_depth=10, n_estimators=50; total time=   0.1s\n",
            "[CV] END ......criterion=gini, max_depth=10, n_estimators=50; total time=   0.1s\n",
            "[CV] END ......criterion=gini, max_depth=10, n_estimators=50; total time=   0.1s\n",
            "[CV] END .....criterion=gini, max_depth=10, n_estimators=100; total time=   0.2s\n",
            "[CV] END .....criterion=gini, max_depth=10, n_estimators=100; total time=   0.2s\n",
            "[CV] END .....criterion=gini, max_depth=10, n_estimators=100; total time=   0.2s\n",
            "[CV] END .....criterion=gini, max_depth=10, n_estimators=100; total time=   0.2s\n",
            "[CV] END .....criterion=gini, max_depth=10, n_estimators=100; total time=   0.2s\n",
            "[CV] END .....criterion=gini, max_depth=10, n_estimators=150; total time=   0.2s\n",
            "[CV] END .....criterion=gini, max_depth=10, n_estimators=150; total time=   0.2s\n",
            "[CV] END .....criterion=gini, max_depth=10, n_estimators=150; total time=   0.2s\n",
            "[CV] END .....criterion=gini, max_depth=10, n_estimators=150; total time=   0.2s\n",
            "[CV] END .....criterion=gini, max_depth=10, n_estimators=150; total time=   0.2s\n",
            "[CV] END .....criterion=gini, max_depth=10, n_estimators=200; total time=   0.3s\n",
            "[CV] END .....criterion=gini, max_depth=10, n_estimators=200; total time=   0.3s\n",
            "[CV] END .....criterion=gini, max_depth=10, n_estimators=200; total time=   0.3s\n",
            "[CV] END .....criterion=gini, max_depth=10, n_estimators=200; total time=   0.3s\n",
            "[CV] END .....criterion=gini, max_depth=10, n_estimators=200; total time=   0.3s\n",
            "[CV] END .....criterion=gini, max_depth=10, n_estimators=300; total time=   0.5s\n",
            "[CV] END .....criterion=gini, max_depth=10, n_estimators=300; total time=   0.5s\n",
            "[CV] END .....criterion=gini, max_depth=10, n_estimators=300; total time=   0.5s\n",
            "[CV] END .....criterion=gini, max_depth=10, n_estimators=300; total time=   0.5s\n",
            "[CV] END .....criterion=gini, max_depth=10, n_estimators=300; total time=   0.5s\n",
            "[CV] END ....criterion=entropy, max_depth=2, n_estimators=50; total time=   0.1s\n",
            "[CV] END ....criterion=entropy, max_depth=2, n_estimators=50; total time=   0.1s\n",
            "[CV] END ....criterion=entropy, max_depth=2, n_estimators=50; total time=   0.1s\n",
            "[CV] END ....criterion=entropy, max_depth=2, n_estimators=50; total time=   0.1s\n",
            "[CV] END ....criterion=entropy, max_depth=2, n_estimators=50; total time=   0.1s\n",
            "[CV] END ...criterion=entropy, max_depth=2, n_estimators=100; total time=   0.2s\n",
            "[CV] END ...criterion=entropy, max_depth=2, n_estimators=100; total time=   0.2s\n",
            "[CV] END ...criterion=entropy, max_depth=2, n_estimators=100; total time=   0.2s\n",
            "[CV] END ...criterion=entropy, max_depth=2, n_estimators=100; total time=   0.2s\n",
            "[CV] END ...criterion=entropy, max_depth=2, n_estimators=100; total time=   0.2s\n",
            "[CV] END ...criterion=entropy, max_depth=2, n_estimators=150; total time=   0.2s\n",
            "[CV] END ...criterion=entropy, max_depth=2, n_estimators=150; total time=   0.2s\n",
            "[CV] END ...criterion=entropy, max_depth=2, n_estimators=150; total time=   0.2s\n",
            "[CV] END ...criterion=entropy, max_depth=2, n_estimators=150; total time=   0.2s\n",
            "[CV] END ...criterion=entropy, max_depth=2, n_estimators=150; total time=   0.2s\n",
            "[CV] END ...criterion=entropy, max_depth=2, n_estimators=200; total time=   0.3s\n",
            "[CV] END ...criterion=entropy, max_depth=2, n_estimators=200; total time=   0.3s\n",
            "[CV] END ...criterion=entropy, max_depth=2, n_estimators=200; total time=   0.3s\n",
            "[CV] END ...criterion=entropy, max_depth=2, n_estimators=200; total time=   0.3s\n",
            "[CV] END ...criterion=entropy, max_depth=2, n_estimators=200; total time=   0.3s\n",
            "[CV] END ...criterion=entropy, max_depth=2, n_estimators=300; total time=   0.5s\n",
            "[CV] END ...criterion=entropy, max_depth=2, n_estimators=300; total time=   0.5s\n",
            "[CV] END ...criterion=entropy, max_depth=2, n_estimators=300; total time=   0.5s\n",
            "[CV] END ...criterion=entropy, max_depth=2, n_estimators=300; total time=   0.5s\n",
            "[CV] END ...criterion=entropy, max_depth=2, n_estimators=300; total time=   0.5s\n",
            "[CV] END ....criterion=entropy, max_depth=3, n_estimators=50; total time=   0.1s\n",
            "[CV] END ....criterion=entropy, max_depth=3, n_estimators=50; total time=   0.1s\n",
            "[CV] END ....criterion=entropy, max_depth=3, n_estimators=50; total time=   0.1s\n",
            "[CV] END ....criterion=entropy, max_depth=3, n_estimators=50; total time=   0.1s\n",
            "[CV] END ....criterion=entropy, max_depth=3, n_estimators=50; total time=   0.1s\n",
            "[CV] END ...criterion=entropy, max_depth=3, n_estimators=100; total time=   0.2s\n",
            "[CV] END ...criterion=entropy, max_depth=3, n_estimators=100; total time=   0.2s\n",
            "[CV] END ...criterion=entropy, max_depth=3, n_estimators=100; total time=   0.2s\n",
            "[CV] END ...criterion=entropy, max_depth=3, n_estimators=100; total time=   0.2s\n",
            "[CV] END ...criterion=entropy, max_depth=3, n_estimators=100; total time=   0.2s\n",
            "[CV] END ...criterion=entropy, max_depth=3, n_estimators=150; total time=   0.2s\n",
            "[CV] END ...criterion=entropy, max_depth=3, n_estimators=150; total time=   0.3s\n",
            "[CV] END ...criterion=entropy, max_depth=3, n_estimators=150; total time=   0.3s\n",
            "[CV] END ...criterion=entropy, max_depth=3, n_estimators=150; total time=   0.3s\n",
            "[CV] END ...criterion=entropy, max_depth=3, n_estimators=150; total time=   0.3s\n",
            "[CV] END ...criterion=entropy, max_depth=3, n_estimators=200; total time=   0.3s\n",
            "[CV] END ...criterion=entropy, max_depth=3, n_estimators=200; total time=   0.4s\n",
            "[CV] END ...criterion=entropy, max_depth=3, n_estimators=200; total time=   0.5s\n",
            "[CV] END ...criterion=entropy, max_depth=3, n_estimators=200; total time=   0.6s\n",
            "[CV] END ...criterion=entropy, max_depth=3, n_estimators=200; total time=   0.6s\n",
            "[CV] END ...criterion=entropy, max_depth=3, n_estimators=300; total time=   0.7s\n",
            "[CV] END ...criterion=entropy, max_depth=3, n_estimators=300; total time=   0.5s\n",
            "[CV] END ...criterion=entropy, max_depth=3, n_estimators=300; total time=   0.5s\n",
            "[CV] END ...criterion=entropy, max_depth=3, n_estimators=300; total time=   0.5s\n",
            "[CV] END ...criterion=entropy, max_depth=3, n_estimators=300; total time=   0.5s\n",
            "[CV] END ....criterion=entropy, max_depth=4, n_estimators=50; total time=   0.1s\n",
            "[CV] END ....criterion=entropy, max_depth=4, n_estimators=50; total time=   0.1s\n",
            "[CV] END ....criterion=entropy, max_depth=4, n_estimators=50; total time=   0.1s\n",
            "[CV] END ....criterion=entropy, max_depth=4, n_estimators=50; total time=   0.1s\n",
            "[CV] END ....criterion=entropy, max_depth=4, n_estimators=50; total time=   0.1s\n",
            "[CV] END ...criterion=entropy, max_depth=4, n_estimators=100; total time=   0.2s\n",
            "[CV] END ...criterion=entropy, max_depth=4, n_estimators=100; total time=   0.2s\n",
            "[CV] END ...criterion=entropy, max_depth=4, n_estimators=100; total time=   0.2s\n",
            "[CV] END ...criterion=entropy, max_depth=4, n_estimators=100; total time=   0.2s\n",
            "[CV] END ...criterion=entropy, max_depth=4, n_estimators=100; total time=   0.2s\n",
            "[CV] END ...criterion=entropy, max_depth=4, n_estimators=150; total time=   0.3s\n",
            "[CV] END ...criterion=entropy, max_depth=4, n_estimators=150; total time=   0.3s\n",
            "[CV] END ...criterion=entropy, max_depth=4, n_estimators=150; total time=   0.3s\n",
            "[CV] END ...criterion=entropy, max_depth=4, n_estimators=150; total time=   0.3s\n",
            "[CV] END ...criterion=entropy, max_depth=4, n_estimators=150; total time=   0.3s\n",
            "[CV] END ...criterion=entropy, max_depth=4, n_estimators=200; total time=   0.3s\n",
            "[CV] END ...criterion=entropy, max_depth=4, n_estimators=200; total time=   0.3s\n",
            "[CV] END ...criterion=entropy, max_depth=4, n_estimators=200; total time=   0.4s\n",
            "[CV] END ...criterion=entropy, max_depth=4, n_estimators=200; total time=   0.4s\n",
            "[CV] END ...criterion=entropy, max_depth=4, n_estimators=200; total time=   0.4s\n",
            "[CV] END ...criterion=entropy, max_depth=4, n_estimators=300; total time=   0.5s\n",
            "[CV] END ...criterion=entropy, max_depth=4, n_estimators=300; total time=   0.5s\n",
            "[CV] END ...criterion=entropy, max_depth=4, n_estimators=300; total time=   0.5s\n",
            "[CV] END ...criterion=entropy, max_depth=4, n_estimators=300; total time=   0.5s\n",
            "[CV] END ...criterion=entropy, max_depth=4, n_estimators=300; total time=   0.5s\n",
            "[CV] END ....criterion=entropy, max_depth=5, n_estimators=50; total time=   0.1s\n",
            "[CV] END ....criterion=entropy, max_depth=5, n_estimators=50; total time=   0.1s\n",
            "[CV] END ....criterion=entropy, max_depth=5, n_estimators=50; total time=   0.1s\n",
            "[CV] END ....criterion=entropy, max_depth=5, n_estimators=50; total time=   0.1s\n",
            "[CV] END ....criterion=entropy, max_depth=5, n_estimators=50; total time=   0.1s\n",
            "[CV] END ...criterion=entropy, max_depth=5, n_estimators=100; total time=   0.2s\n",
            "[CV] END ...criterion=entropy, max_depth=5, n_estimators=100; total time=   0.2s\n",
            "[CV] END ...criterion=entropy, max_depth=5, n_estimators=100; total time=   0.2s\n",
            "[CV] END ...criterion=entropy, max_depth=5, n_estimators=100; total time=   0.2s\n",
            "[CV] END ...criterion=entropy, max_depth=5, n_estimators=100; total time=   0.2s\n",
            "[CV] END ...criterion=entropy, max_depth=5, n_estimators=150; total time=   0.3s\n",
            "[CV] END ...criterion=entropy, max_depth=5, n_estimators=150; total time=   0.3s\n",
            "[CV] END ...criterion=entropy, max_depth=5, n_estimators=150; total time=   0.3s\n",
            "[CV] END ...criterion=entropy, max_depth=5, n_estimators=150; total time=   0.3s\n",
            "[CV] END ...criterion=entropy, max_depth=5, n_estimators=150; total time=   0.3s\n",
            "[CV] END ...criterion=entropy, max_depth=5, n_estimators=200; total time=   0.4s\n",
            "[CV] END ...criterion=entropy, max_depth=5, n_estimators=200; total time=   0.4s\n",
            "[CV] END ...criterion=entropy, max_depth=5, n_estimators=200; total time=   0.4s\n",
            "[CV] END ...criterion=entropy, max_depth=5, n_estimators=200; total time=   0.4s\n",
            "[CV] END ...criterion=entropy, max_depth=5, n_estimators=200; total time=   0.4s\n",
            "[CV] END ...criterion=entropy, max_depth=5, n_estimators=300; total time=   0.5s\n",
            "[CV] END ...criterion=entropy, max_depth=5, n_estimators=300; total time=   0.5s\n",
            "[CV] END ...criterion=entropy, max_depth=5, n_estimators=300; total time=   0.5s\n",
            "[CV] END ...criterion=entropy, max_depth=5, n_estimators=300; total time=   0.6s\n",
            "[CV] END ...criterion=entropy, max_depth=5, n_estimators=300; total time=   0.5s\n",
            "[CV] END ...criterion=entropy, max_depth=10, n_estimators=50; total time=   0.1s\n",
            "[CV] END ...criterion=entropy, max_depth=10, n_estimators=50; total time=   0.1s\n",
            "[CV] END ...criterion=entropy, max_depth=10, n_estimators=50; total time=   0.1s\n",
            "[CV] END ...criterion=entropy, max_depth=10, n_estimators=50; total time=   0.1s\n",
            "[CV] END ...criterion=entropy, max_depth=10, n_estimators=50; total time=   0.1s\n",
            "[CV] END ..criterion=entropy, max_depth=10, n_estimators=100; total time=   0.2s\n",
            "[CV] END ..criterion=entropy, max_depth=10, n_estimators=100; total time=   0.2s\n",
            "[CV] END ..criterion=entropy, max_depth=10, n_estimators=100; total time=   0.2s\n",
            "[CV] END ..criterion=entropy, max_depth=10, n_estimators=100; total time=   0.2s\n",
            "[CV] END ..criterion=entropy, max_depth=10, n_estimators=100; total time=   0.2s\n",
            "[CV] END ..criterion=entropy, max_depth=10, n_estimators=150; total time=   0.3s\n",
            "[CV] END ..criterion=entropy, max_depth=10, n_estimators=150; total time=   0.3s\n",
            "[CV] END ..criterion=entropy, max_depth=10, n_estimators=150; total time=   0.3s\n",
            "[CV] END ..criterion=entropy, max_depth=10, n_estimators=150; total time=   0.3s\n",
            "[CV] END ..criterion=entropy, max_depth=10, n_estimators=150; total time=   0.3s\n",
            "[CV] END ..criterion=entropy, max_depth=10, n_estimators=200; total time=   0.4s\n",
            "[CV] END ..criterion=entropy, max_depth=10, n_estimators=200; total time=   0.4s\n",
            "[CV] END ..criterion=entropy, max_depth=10, n_estimators=200; total time=   0.4s\n",
            "[CV] END ..criterion=entropy, max_depth=10, n_estimators=200; total time=   0.4s\n",
            "[CV] END ..criterion=entropy, max_depth=10, n_estimators=200; total time=   0.4s\n",
            "[CV] END ..criterion=entropy, max_depth=10, n_estimators=300; total time=   0.5s\n",
            "[CV] END ..criterion=entropy, max_depth=10, n_estimators=300; total time=   0.5s\n",
            "[CV] END ..criterion=entropy, max_depth=10, n_estimators=300; total time=   0.5s\n",
            "[CV] END ..criterion=entropy, max_depth=10, n_estimators=300; total time=   0.5s\n",
            "[CV] END ..criterion=entropy, max_depth=10, n_estimators=300; total time=   0.5s\n"
          ]
        },
        {
          "output_type": "execute_result",
          "data": {
            "text/plain": [
              "GridSearchCV(cv=5, estimator=RandomForestClassifier(),\n",
              "             param_grid={'criterion': ['gini', 'entropy'],\n",
              "                         'max_depth': [2, 3, 4, 5, 10],\n",
              "                         'n_estimators': [50, 100, 150, 200, 300]},\n",
              "             verbose=2)"
            ]
          },
          "metadata": {},
          "execution_count": 24
        }
      ]
    },
    {
      "cell_type": "code",
      "source": [
        "classifier1 = pd.DataFrame(cv.cv_results_)\n",
        "classifier1.head()"
      ],
      "metadata": {
        "colab": {
          "base_uri": "https://localhost:8080/",
          "height": 617
        },
        "id": "4vgy2OjRzNix",
        "outputId": "d64a82ba-110a-4600-93c2-3afe41ed13b4"
      },
      "execution_count": 25,
      "outputs": [
        {
          "output_type": "execute_result",
          "data": {
            "text/plain": [
              "   mean_fit_time  std_fit_time  mean_score_time  std_score_time  \\\n",
              "0       0.071182      0.005057         0.006900        0.000099   \n",
              "1       0.138776      0.005844         0.011086        0.000115   \n",
              "2       0.215875      0.015151         0.017179        0.001292   \n",
              "3       0.272779      0.007430         0.020232        0.001258   \n",
              "4       0.403782      0.008800         0.029880        0.002668   \n",
              "\n",
              "  param_criterion param_max_depth param_n_estimators  \\\n",
              "0            gini               2                 50   \n",
              "1            gini               2                100   \n",
              "2            gini               2                150   \n",
              "3            gini               2                200   \n",
              "4            gini               2                300   \n",
              "\n",
              "                                              params  split0_test_score  \\\n",
              "0  {'criterion': 'gini', 'max_depth': 2, 'n_estim...           0.735294   \n",
              "1  {'criterion': 'gini', 'max_depth': 2, 'n_estim...           0.705882   \n",
              "2  {'criterion': 'gini', 'max_depth': 2, 'n_estim...           0.735294   \n",
              "3  {'criterion': 'gini', 'max_depth': 2, 'n_estim...           0.735294   \n",
              "4  {'criterion': 'gini', 'max_depth': 2, 'n_estim...           0.705882   \n",
              "\n",
              "   split1_test_score  split2_test_score  split3_test_score  split4_test_score  \\\n",
              "0           0.757576           0.787879           0.757576           0.848485   \n",
              "1           0.727273           0.757576           0.757576           0.848485   \n",
              "2           0.757576           0.696970           0.787879           0.818182   \n",
              "3           0.727273           0.696970           0.787879           0.787879   \n",
              "4           0.727273           0.757576           0.757576           0.787879   \n",
              "\n",
              "   mean_test_score  std_test_score  rank_test_score  \n",
              "0         0.777362        0.039298               32  \n",
              "1         0.759358        0.048660               43  \n",
              "2         0.759180        0.041828               44  \n",
              "3         0.747059        0.035697               48  \n",
              "4         0.747237        0.028193               45  "
            ],
            "text/html": [
              "\n",
              "  <div id=\"df-d5013721-ac61-482a-8610-b9bfb89930e9\">\n",
              "    <div class=\"colab-df-container\">\n",
              "      <div>\n",
              "<style scoped>\n",
              "    .dataframe tbody tr th:only-of-type {\n",
              "        vertical-align: middle;\n",
              "    }\n",
              "\n",
              "    .dataframe tbody tr th {\n",
              "        vertical-align: top;\n",
              "    }\n",
              "\n",
              "    .dataframe thead th {\n",
              "        text-align: right;\n",
              "    }\n",
              "</style>\n",
              "<table border=\"1\" class=\"dataframe\">\n",
              "  <thead>\n",
              "    <tr style=\"text-align: right;\">\n",
              "      <th></th>\n",
              "      <th>mean_fit_time</th>\n",
              "      <th>std_fit_time</th>\n",
              "      <th>mean_score_time</th>\n",
              "      <th>std_score_time</th>\n",
              "      <th>param_criterion</th>\n",
              "      <th>param_max_depth</th>\n",
              "      <th>param_n_estimators</th>\n",
              "      <th>params</th>\n",
              "      <th>split0_test_score</th>\n",
              "      <th>split1_test_score</th>\n",
              "      <th>split2_test_score</th>\n",
              "      <th>split3_test_score</th>\n",
              "      <th>split4_test_score</th>\n",
              "      <th>mean_test_score</th>\n",
              "      <th>std_test_score</th>\n",
              "      <th>rank_test_score</th>\n",
              "    </tr>\n",
              "  </thead>\n",
              "  <tbody>\n",
              "    <tr>\n",
              "      <th>0</th>\n",
              "      <td>0.071182</td>\n",
              "      <td>0.005057</td>\n",
              "      <td>0.006900</td>\n",
              "      <td>0.000099</td>\n",
              "      <td>gini</td>\n",
              "      <td>2</td>\n",
              "      <td>50</td>\n",
              "      <td>{'criterion': 'gini', 'max_depth': 2, 'n_estim...</td>\n",
              "      <td>0.735294</td>\n",
              "      <td>0.757576</td>\n",
              "      <td>0.787879</td>\n",
              "      <td>0.757576</td>\n",
              "      <td>0.848485</td>\n",
              "      <td>0.777362</td>\n",
              "      <td>0.039298</td>\n",
              "      <td>32</td>\n",
              "    </tr>\n",
              "    <tr>\n",
              "      <th>1</th>\n",
              "      <td>0.138776</td>\n",
              "      <td>0.005844</td>\n",
              "      <td>0.011086</td>\n",
              "      <td>0.000115</td>\n",
              "      <td>gini</td>\n",
              "      <td>2</td>\n",
              "      <td>100</td>\n",
              "      <td>{'criterion': 'gini', 'max_depth': 2, 'n_estim...</td>\n",
              "      <td>0.705882</td>\n",
              "      <td>0.727273</td>\n",
              "      <td>0.757576</td>\n",
              "      <td>0.757576</td>\n",
              "      <td>0.848485</td>\n",
              "      <td>0.759358</td>\n",
              "      <td>0.048660</td>\n",
              "      <td>43</td>\n",
              "    </tr>\n",
              "    <tr>\n",
              "      <th>2</th>\n",
              "      <td>0.215875</td>\n",
              "      <td>0.015151</td>\n",
              "      <td>0.017179</td>\n",
              "      <td>0.001292</td>\n",
              "      <td>gini</td>\n",
              "      <td>2</td>\n",
              "      <td>150</td>\n",
              "      <td>{'criterion': 'gini', 'max_depth': 2, 'n_estim...</td>\n",
              "      <td>0.735294</td>\n",
              "      <td>0.757576</td>\n",
              "      <td>0.696970</td>\n",
              "      <td>0.787879</td>\n",
              "      <td>0.818182</td>\n",
              "      <td>0.759180</td>\n",
              "      <td>0.041828</td>\n",
              "      <td>44</td>\n",
              "    </tr>\n",
              "    <tr>\n",
              "      <th>3</th>\n",
              "      <td>0.272779</td>\n",
              "      <td>0.007430</td>\n",
              "      <td>0.020232</td>\n",
              "      <td>0.001258</td>\n",
              "      <td>gini</td>\n",
              "      <td>2</td>\n",
              "      <td>200</td>\n",
              "      <td>{'criterion': 'gini', 'max_depth': 2, 'n_estim...</td>\n",
              "      <td>0.735294</td>\n",
              "      <td>0.727273</td>\n",
              "      <td>0.696970</td>\n",
              "      <td>0.787879</td>\n",
              "      <td>0.787879</td>\n",
              "      <td>0.747059</td>\n",
              "      <td>0.035697</td>\n",
              "      <td>48</td>\n",
              "    </tr>\n",
              "    <tr>\n",
              "      <th>4</th>\n",
              "      <td>0.403782</td>\n",
              "      <td>0.008800</td>\n",
              "      <td>0.029880</td>\n",
              "      <td>0.002668</td>\n",
              "      <td>gini</td>\n",
              "      <td>2</td>\n",
              "      <td>300</td>\n",
              "      <td>{'criterion': 'gini', 'max_depth': 2, 'n_estim...</td>\n",
              "      <td>0.705882</td>\n",
              "      <td>0.727273</td>\n",
              "      <td>0.757576</td>\n",
              "      <td>0.757576</td>\n",
              "      <td>0.787879</td>\n",
              "      <td>0.747237</td>\n",
              "      <td>0.028193</td>\n",
              "      <td>45</td>\n",
              "    </tr>\n",
              "  </tbody>\n",
              "</table>\n",
              "</div>\n",
              "      <button class=\"colab-df-convert\" onclick=\"convertToInteractive('df-d5013721-ac61-482a-8610-b9bfb89930e9')\"\n",
              "              title=\"Convert this dataframe to an interactive table.\"\n",
              "              style=\"display:none;\">\n",
              "        \n",
              "  <svg xmlns=\"http://www.w3.org/2000/svg\" height=\"24px\"viewBox=\"0 0 24 24\"\n",
              "       width=\"24px\">\n",
              "    <path d=\"M0 0h24v24H0V0z\" fill=\"none\"/>\n",
              "    <path d=\"M18.56 5.44l.94 2.06.94-2.06 2.06-.94-2.06-.94-.94-2.06-.94 2.06-2.06.94zm-11 1L8.5 8.5l.94-2.06 2.06-.94-2.06-.94L8.5 2.5l-.94 2.06-2.06.94zm10 10l.94 2.06.94-2.06 2.06-.94-2.06-.94-.94-2.06-.94 2.06-2.06.94z\"/><path d=\"M17.41 7.96l-1.37-1.37c-.4-.4-.92-.59-1.43-.59-.52 0-1.04.2-1.43.59L10.3 9.45l-7.72 7.72c-.78.78-.78 2.05 0 2.83L4 21.41c.39.39.9.59 1.41.59.51 0 1.02-.2 1.41-.59l7.78-7.78 2.81-2.81c.8-.78.8-2.07 0-2.86zM5.41 20L4 18.59l7.72-7.72 1.47 1.35L5.41 20z\"/>\n",
              "  </svg>\n",
              "      </button>\n",
              "      \n",
              "  <style>\n",
              "    .colab-df-container {\n",
              "      display:flex;\n",
              "      flex-wrap:wrap;\n",
              "      gap: 12px;\n",
              "    }\n",
              "\n",
              "    .colab-df-convert {\n",
              "      background-color: #E8F0FE;\n",
              "      border: none;\n",
              "      border-radius: 50%;\n",
              "      cursor: pointer;\n",
              "      display: none;\n",
              "      fill: #1967D2;\n",
              "      height: 32px;\n",
              "      padding: 0 0 0 0;\n",
              "      width: 32px;\n",
              "    }\n",
              "\n",
              "    .colab-df-convert:hover {\n",
              "      background-color: #E2EBFA;\n",
              "      box-shadow: 0px 1px 2px rgba(60, 64, 67, 0.3), 0px 1px 3px 1px rgba(60, 64, 67, 0.15);\n",
              "      fill: #174EA6;\n",
              "    }\n",
              "\n",
              "    [theme=dark] .colab-df-convert {\n",
              "      background-color: #3B4455;\n",
              "      fill: #D2E3FC;\n",
              "    }\n",
              "\n",
              "    [theme=dark] .colab-df-convert:hover {\n",
              "      background-color: #434B5C;\n",
              "      box-shadow: 0px 1px 3px 1px rgba(0, 0, 0, 0.15);\n",
              "      filter: drop-shadow(0px 1px 2px rgba(0, 0, 0, 0.3));\n",
              "      fill: #FFFFFF;\n",
              "    }\n",
              "  </style>\n",
              "\n",
              "      <script>\n",
              "        const buttonEl =\n",
              "          document.querySelector('#df-d5013721-ac61-482a-8610-b9bfb89930e9 button.colab-df-convert');\n",
              "        buttonEl.style.display =\n",
              "          google.colab.kernel.accessAllowed ? 'block' : 'none';\n",
              "\n",
              "        async function convertToInteractive(key) {\n",
              "          const element = document.querySelector('#df-d5013721-ac61-482a-8610-b9bfb89930e9');\n",
              "          const dataTable =\n",
              "            await google.colab.kernel.invokeFunction('convertToInteractive',\n",
              "                                                     [key], {});\n",
              "          if (!dataTable) return;\n",
              "\n",
              "          const docLinkHtml = 'Like what you see? Visit the ' +\n",
              "            '<a target=\"_blank\" href=https://colab.research.google.com/notebooks/data_table.ipynb>data table notebook</a>'\n",
              "            + ' to learn more about interactive tables.';\n",
              "          element.innerHTML = '';\n",
              "          dataTable['output_type'] = 'display_data';\n",
              "          await google.colab.output.renderOutput(dataTable, element);\n",
              "          const docLink = document.createElement('div');\n",
              "          docLink.innerHTML = docLinkHtml;\n",
              "          element.appendChild(docLink);\n",
              "        }\n",
              "      </script>\n",
              "    </div>\n",
              "  </div>\n",
              "  "
            ]
          },
          "metadata": {},
          "execution_count": 25
        }
      ]
    },
    {
      "cell_type": "code",
      "source": [
        "best_params = cv.best_params_\n",
        "best_params"
      ],
      "metadata": {
        "colab": {
          "base_uri": "https://localhost:8080/"
        },
        "id": "rsUSJZSozviM",
        "outputId": "dae68f9a-b459-4f05-a797-24cefac778b2"
      },
      "execution_count": 26,
      "outputs": [
        {
          "output_type": "execute_result",
          "data": {
            "text/plain": [
              "{'criterion': 'gini', 'max_depth': 10, 'n_estimators': 200}"
            ]
          },
          "metadata": {},
          "execution_count": 26
        }
      ]
    },
    {
      "cell_type": "code",
      "source": [
        "def rfc_model(criterion, max_depth,n_estimators):\n",
        "  rfc = RandomForestClassifier(n_estimators = n_estimators, criterion = criterion, max_depth = max_depth)\n",
        "  rfc.fit(X_train, y_train)\n",
        "  y_pred = rfc.predict(X_test)\n",
        "\n",
        "  cr = classification_report(y_test, y_pred)\n",
        "  acc_score = accuracy_score(y_test, y_pred)\n",
        "  cm = confusion_matrix(y_test, y_pred)\n",
        "\n",
        "  fig, ax = plt.subplots(figsize=(8,8))\n",
        "  plt.imshow(cm)\n",
        "  ax.grid(False)\n",
        "  ax.xaxis.set(ticks = (0,1), ticklabels = [\"Predicted Rocks's\", \"Predicted Mines's\"])\n",
        "  ax.yaxis.set(ticks = (0,1), ticklabels = [\"Actual Rocks's\", \"Actual Mines's\"])\n",
        "  ax.set_ylim(1.5,-0.5)\n",
        "  for i in range(2):\n",
        "    for j in range(2):\n",
        "      ax.text(j, i, cm[i, j], ha = 'center', va = 'center', color = 'red')\n",
        "  plt.show()\n",
        "\n",
        "  print(\"Predicted Values are:\", y_pred)\n",
        "  print(cr)\n",
        "  print('Accuracy Score is:',round(acc_score*100,2),'%')"
      ],
      "metadata": {
        "id": "FqN_qkKb0A0E"
      },
      "execution_count": 27,
      "outputs": []
    },
    {
      "cell_type": "code",
      "source": [
        "pred9 = rfc_model('entropy', 10, 300)"
      ],
      "metadata": {
        "colab": {
          "base_uri": "https://localhost:8080/",
          "height": 709
        },
        "id": "vRu7U5ov0yal",
        "outputId": "75578430-c7fa-41ed-eb8d-0baf48f05095"
      },
      "execution_count": 28,
      "outputs": [
        {
          "output_type": "display_data",
          "data": {
            "text/plain": [
              "<Figure size 576x576 with 1 Axes>"
            ],
            "image/png": "[encoded data removed]"
          },
          "metadata": {
            "needs_background": "light"
          }
        },
        {
          "output_type": "stream",
          "name": "stdout",
          "text": [
            "Predicted Values are: ['R' 'M' 'M' 'M' 'M' 'M' 'M' 'R' 'M' 'M' 'R' 'M' 'R' 'R' 'R' 'R' 'M' 'M'\n",
            " 'M' 'M' 'M' 'M' 'M' 'R' 'R' 'R' 'M' 'M' 'M' 'R' 'R' 'M' 'R' 'M' 'M' 'M'\n",
            " 'M' 'M' 'M' 'M' 'M' 'R']\n",
            "              precision    recall  f1-score   support\n",
            "\n",
            "           M       0.79      1.00      0.88        22\n",
            "           R       1.00      0.70      0.82        20\n",
            "\n",
            "    accuracy                           0.86        42\n",
            "   macro avg       0.89      0.85      0.85        42\n",
            "weighted avg       0.89      0.86      0.85        42\n",
            "\n",
            "Accuracy Score is: 85.71 %\n"
          ]
        }
      ]
    },
    {
      "cell_type": "code",
      "source": [
        "from sklearn.tree import DecisionTreeClassifier\n",
        "\n",
        "def dtc_model(criterion, max_depth, splitter, max_features):\n",
        "  dtc = DecisionTreeClassifier()\n",
        "  dtc.fit(X_train, y_train)\n",
        "  y_pred = dtc.predict(X_test)\n",
        "\n",
        "  cr = classification_report(y_test, y_pred)\n",
        "  acc_score = accuracy_score(y_test, y_pred)\n",
        "  cm = confusion_matrix(y_test, y_pred)\n",
        "\n",
        "  fig, ax = plt.subplots(figsize=(8,8))\n",
        "  plt.imshow(cm)\n",
        "  ax.grid(False)\n",
        "  ax.xaxis.set(ticks=(0,1), ticklabels=[\"Predicted Rocks\", 'Predicted Mines'])\n",
        "  ax.yaxis.set(ticks=(0,1), ticklabels=['Actual Rocks', 'Actual Mines'])\n",
        "  ax.set_ylim(1.5, -0.5)\n",
        "  for i in range(2):\n",
        "    for j in range(2):\n",
        "      ax.text(j, i, cm[i, j], ha = 'center', va = 'center', color = 'red')\n",
        "  plt.show()\n",
        "\n",
        "  print('Predicted Values are:',y_pred)\n",
        "  print(cr)\n",
        "  print('Accuracy of the model is:',round(acc_score*100,2),'%')"
      ],
      "metadata": {
        "id": "i1OJUKOC06Pb"
      },
      "execution_count": 29,
      "outputs": []
    },
    {
      "cell_type": "code",
      "source": [
        "pred9 = dtc_model('gini', 4, 'best','auto')"
      ],
      "metadata": {
        "colab": {
          "base_uri": "https://localhost:8080/",
          "height": 709
        },
        "id": "icjH5ami2JTa",
        "outputId": "d0b2ad0e-e746-44af-ef34-ab041958322a"
      },
      "execution_count": 30,
      "outputs": [
        {
          "output_type": "display_data",
          "data": {
            "text/plain": [
              "<Figure size 576x576 with 1 Axes>"
            ],
            "image/png": "[encoded data removed]"
          },
          "metadata": {
            "needs_background": "light"
          }
        },
        {
          "output_type": "stream",
          "name": "stdout",
          "text": [
            "Predicted Values are: ['R' 'M' 'M' 'M' 'M' 'M' 'M' 'R' 'R' 'M' 'R' 'M' 'M' 'R' 'M' 'R' 'M' 'M'\n",
            " 'M' 'R' 'M' 'M' 'M' 'R' 'R' 'R' 'R' 'M' 'M' 'R' 'M' 'M' 'R' 'M' 'R' 'M'\n",
            " 'M' 'M' 'M' 'M' 'M' 'R']\n",
            "              precision    recall  f1-score   support\n",
            "\n",
            "           M       0.74      0.91      0.82        22\n",
            "           R       0.87      0.65      0.74        20\n",
            "\n",
            "    accuracy                           0.79        42\n",
            "   macro avg       0.80      0.78      0.78        42\n",
            "weighted avg       0.80      0.79      0.78        42\n",
            "\n",
            "Accuracy of the model is: 78.57 %\n"
          ]
        }
      ]
    },
    {
      "cell_type": "code",
      "source": [
        "pred10 = dtc_model('entropy', 3, 'random','auto')"
      ],
      "metadata": {
        "colab": {
          "base_uri": "https://localhost:8080/",
          "height": 709
        },
        "id": "VeXdUE_e3dF3",
        "outputId": "553e8600-2588-427c-851c-5a3c6a338740"
      },
      "execution_count": 31,
      "outputs": [
        {
          "output_type": "display_data",
          "data": {
            "text/plain": [
              "<Figure size 576x576 with 1 Axes>"
            ],
            "image/png": "[encoded data removed]"
          },
          "metadata": {
            "needs_background": "light"
          }
        },
        {
          "output_type": "stream",
          "name": "stdout",
          "text": [
            "Predicted Values are: ['R' 'M' 'M' 'M' 'M' 'M' 'M' 'R' 'R' 'M' 'R' 'R' 'M' 'R' 'M' 'R' 'M' 'M'\n",
            " 'M' 'M' 'M' 'M' 'M' 'R' 'R' 'R' 'R' 'M' 'M' 'R' 'M' 'M' 'R' 'M' 'R' 'M'\n",
            " 'M' 'M' 'M' 'M' 'M' 'R']\n",
            "              precision    recall  f1-score   support\n",
            "\n",
            "           M       0.74      0.91      0.82        22\n",
            "           R       0.87      0.65      0.74        20\n",
            "\n",
            "    accuracy                           0.79        42\n",
            "   macro avg       0.80      0.78      0.78        42\n",
            "weighted avg       0.80      0.79      0.78        42\n",
            "\n",
            "Accuracy of the model is: 78.57 %\n"
          ]
        }
      ]
    },
    {
      "cell_type": "code",
      "source": [
        "pred11 = dtc_model('log_loss', 4, 'best','sqrt')"
      ],
      "metadata": {
        "colab": {
          "base_uri": "https://localhost:8080/",
          "height": 709
        },
        "id": "eNtwZRH356fa",
        "outputId": "239a2c42-566e-49ae-9fe6-1ae70c07e920"
      },
      "execution_count": 32,
      "outputs": [
        {
          "output_type": "display_data",
          "data": {
            "text/plain": [
              "<Figure size 576x576 with 1 Axes>"
            ],
            "image/png": "[encoded data removed]"
          },
          "metadata": {
            "needs_background": "light"
          }
        },
        {
          "output_type": "stream",
          "name": "stdout",
          "text": [
            "Predicted Values are: ['R' 'M' 'M' 'M' 'M' 'M' 'M' 'R' 'R' 'M' 'R' 'R' 'M' 'R' 'M' 'R' 'M' 'M'\n",
            " 'M' 'M' 'M' 'M' 'M' 'R' 'R' 'R' 'R' 'M' 'M' 'R' 'M' 'M' 'R' 'M' 'R' 'M'\n",
            " 'M' 'M' 'M' 'M' 'M' 'R']\n",
            "              precision    recall  f1-score   support\n",
            "\n",
            "           M       0.74      0.91      0.82        22\n",
            "           R       0.87      0.65      0.74        20\n",
            "\n",
            "    accuracy                           0.79        42\n",
            "   macro avg       0.80      0.78      0.78        42\n",
            "weighted avg       0.80      0.79      0.78        42\n",
            "\n",
            "Accuracy of the model is: 78.57 %\n"
          ]
        }
      ]
    },
    {
      "cell_type": "code",
      "source": [
        "from sklearn.ensemble import GradientBoostingClassifier\n",
        "\n",
        "def gbc_model(loss, n_estimators, learning_rate, max_depth, max_features):\n",
        "  gbc = GradientBoostingClassifier()\n",
        "  gbc.fit(X_train, y_train)\n",
        "  y_pred = gbc.predict(X_test)\n",
        "\n",
        "  cr = classification_report(y_test, y_pred)\n",
        "  acc_score = accuracy_score(y_test,y_pred)\n",
        "  cm = confusion_matrix(y_test, y_pred)\n",
        "\n",
        "  fig, ax = plt.subplots(figsize=(8,8))\n",
        "  plt.imshow(cm)\n",
        "  ax.grid(False)\n",
        "  ax.xaxis.set(ticks=(0,1), ticklabels=[\"Predicted Rocks\", 'Predicted Mines'])\n",
        "  ax.yaxis.set(ticks=(0,1), ticklabels=['Actual Rocks', 'Actual Mines'])\n",
        "  ax.set_ylim(1.5, -0.5)\n",
        "  for i in range(2):\n",
        "    for j in range(2):\n",
        "      ax.text(j, i, cm[i, j], ha = 'center', va = 'center', color = 'red')\n",
        "  plt.show()\n",
        "\n",
        "  print('Predicted Values are:',y_pred)\n",
        "  print(cr)\n",
        "  print('Accuracy of the model is:',round(acc_score*100,2),'%')\n"
      ],
      "metadata": {
        "id": "UADrJ_kQ6IhA"
      },
      "execution_count": 43,
      "outputs": []
    },
    {
      "cell_type": "code",
      "source": [
        "pred10 = gbc_model('log_loss',200,0.05, 5,'auto')"
      ],
      "metadata": {
        "colab": {
          "base_uri": "https://localhost:8080/",
          "height": 709
        },
        "id": "xTv-qMv26dy3",
        "outputId": "b8166415-7c9c-4ffb-e98f-0dd1ef0b91a9"
      },
      "execution_count": 44,
      "outputs": [
        {
          "output_type": "display_data",
          "data": {
            "text/plain": [
              "<Figure size 576x576 with 1 Axes>"
            ],
            "image/png": "[encoded data removed]"
          },
          "metadata": {
            "needs_background": "light"
          }
        },
        {
          "output_type": "stream",
          "name": "stdout",
          "text": [
            "Predicted Values are: ['R' 'M' 'M' 'M' 'M' 'M' 'M' 'R' 'M' 'M' 'R' 'M' 'M' 'R' 'R' 'R' 'M' 'M'\n",
            " 'M' 'M' 'M' 'M' 'M' 'R' 'R' 'R' 'R' 'M' 'M' 'R' 'M' 'M' 'R' 'M' 'M' 'M'\n",
            " 'M' 'M' 'M' 'M' 'M' 'R']\n",
            "              precision    recall  f1-score   support\n",
            "\n",
            "           M       0.76      1.00      0.86        22\n",
            "           R       1.00      0.65      0.79        20\n",
            "\n",
            "    accuracy                           0.83        42\n",
            "   macro avg       0.88      0.82      0.83        42\n",
            "weighted avg       0.87      0.83      0.83        42\n",
            "\n",
            "Accuracy of the model is: 83.33 %\n"
          ]
        }
      ]
    },
    {
      "cell_type": "code",
      "source": [
        "pred11 = gbc_model('log_loss',300,0.05, 3,'sqrt')"
      ],
      "metadata": {
        "colab": {
          "base_uri": "https://localhost:8080/",
          "height": 709
        },
        "id": "PDWZyr80OWnl",
        "outputId": "ebc4d2da-110d-4608-dfcc-5e51f327a627"
      },
      "execution_count": 51,
      "outputs": [
        {
          "output_type": "display_data",
          "data": {
            "text/plain": [
              "<Figure size 576x576 with 1 Axes>"
            ],
            "image/png": "[encoded data removed]"
          },
          "metadata": {
            "needs_background": "light"
          }
        },
        {
          "output_type": "stream",
          "name": "stdout",
          "text": [
            "Predicted Values are: ['R' 'R' 'M' 'M' 'M' 'M' 'M' 'R' 'M' 'M' 'R' 'M' 'R' 'R' 'R' 'R' 'M' 'M'\n",
            " 'M' 'M' 'M' 'M' 'M' 'R' 'R' 'R' 'R' 'M' 'M' 'R' 'M' 'M' 'R' 'M' 'M' 'M'\n",
            " 'M' 'M' 'M' 'M' 'M' 'R']\n",
            "              precision    recall  f1-score   support\n",
            "\n",
            "           M       0.81      1.00      0.90        22\n",
            "           R       1.00      0.75      0.86        20\n",
            "\n",
            "    accuracy                           0.88        42\n",
            "   macro avg       0.91      0.88      0.88        42\n",
            "weighted avg       0.90      0.88      0.88        42\n",
            "\n",
            "Accuracy of the model is: 88.1 %\n"
          ]
        }
      ]
    },
    {
      "cell_type": "code",
      "source": [
        "pred12 = gbc_model('deviance',300,0.05, 3,'log2')"
      ],
      "metadata": {
        "colab": {
          "base_uri": "https://localhost:8080/",
          "height": 709
        },
        "id": "vtLPBKhQVGos",
        "outputId": "448e8b50-6e0c-4ed1-de07-a4be12516cd7"
      },
      "execution_count": 62,
      "outputs": [
        {
          "output_type": "display_data",
          "data": {
            "text/plain": [
              "<Figure size 576x576 with 1 Axes>"
            ],
            "image/png": "[encoded data removed]"
          },
          "metadata": {
            "needs_background": "light"
          }
        },
        {
          "output_type": "stream",
          "name": "stdout",
          "text": [
            "Predicted Values are: ['R' 'R' 'M' 'M' 'M' 'M' 'M' 'R' 'M' 'M' 'R' 'M' 'M' 'R' 'R' 'R' 'M' 'M'\n",
            " 'M' 'M' 'M' 'M' 'M' 'R' 'R' 'R' 'R' 'M' 'M' 'R' 'M' 'M' 'R' 'M' 'M' 'M'\n",
            " 'M' 'M' 'M' 'M' 'M' 'R']\n",
            "              precision    recall  f1-score   support\n",
            "\n",
            "           M       0.79      1.00      0.88        22\n",
            "           R       1.00      0.70      0.82        20\n",
            "\n",
            "    accuracy                           0.86        42\n",
            "   macro avg       0.89      0.85      0.85        42\n",
            "weighted avg       0.89      0.86      0.85        42\n",
            "\n",
            "Accuracy of the model is: 85.71 %\n"
          ]
        }
      ]
    },
    {
      "cell_type": "code",
      "source": [
        "pred12 = gbc_model('exponential',300,0.05, 3,'sqrt')"
      ],
      "metadata": {
        "colab": {
          "base_uri": "https://localhost:8080/",
          "height": 709
        },
        "id": "CLYS0fWJVfm3",
        "outputId": "a2cfe8fa-2e0e-4b6c-ae94-5bf3a23fcdb6"
      },
      "execution_count": 69,
      "outputs": [
        {
          "output_type": "display_data",
          "data": {
            "text/plain": [
              "<Figure size 576x576 with 1 Axes>"
            ],
            "image/png": "[encoded data removed]"
          },
          "metadata": {
            "needs_background": "light"
          }
        },
        {
          "output_type": "stream",
          "name": "stdout",
          "text": [
            "Predicted Values are: ['R' 'R' 'M' 'M' 'M' 'M' 'M' 'R' 'M' 'M' 'R' 'M' 'R' 'R' 'R' 'R' 'M' 'M'\n",
            " 'M' 'M' 'M' 'M' 'M' 'R' 'R' 'R' 'R' 'M' 'M' 'R' 'M' 'M' 'R' 'M' 'M' 'M'\n",
            " 'M' 'M' 'M' 'M' 'M' 'R']\n",
            "              precision    recall  f1-score   support\n",
            "\n",
            "           M       0.81      1.00      0.90        22\n",
            "           R       1.00      0.75      0.86        20\n",
            "\n",
            "    accuracy                           0.88        42\n",
            "   macro avg       0.91      0.88      0.88        42\n",
            "weighted avg       0.90      0.88      0.88        42\n",
            "\n",
            "Accuracy of the model is: 88.1 %\n"
          ]
        }
      ]
    },
    {
      "cell_type": "code",
      "source": [
        "from sklearn.ensemble import AdaBoostClassifier\n",
        "\n",
        "model3 = AdaBoostClassifier(learning_rate=0.05, algorithm = 'SAMME')\n",
        "parameters = {'n_estimators':[50,100,250,300,500],\n",
        "              }\n",
        "classifier = GridSearchCV(model3, parameters, cv=5, verbose=4)"
      ],
      "metadata": {
        "id": "DEi6vRmgV7pb"
      },
      "execution_count": 83,
      "outputs": []
    },
    {
      "cell_type": "code",
      "source": [
        "classifier.fit(X_train, y_train)"
      ],
      "metadata": {
        "colab": {
          "base_uri": "https://localhost:8080/"
        },
        "id": "MXq9VfppWltB",
        "outputId": "2de9aa99-9a4e-4d48-9f66-2b35dfc909e3"
      },
      "execution_count": 84,
      "outputs": [
        {
          "output_type": "stream",
          "name": "stdout",
          "text": [
            "Fitting 5 folds for each of 5 candidates, totalling 25 fits\n",
            "[CV 1/5] END ...................n_estimators=50;, score=0.765 total time=   0.3s\n",
            "[CV 2/5] END ...................n_estimators=50;, score=0.727 total time=   0.2s\n",
            "[CV 3/5] END ...................n_estimators=50;, score=0.697 total time=   0.2s\n",
            "[CV 4/5] END ...................n_estimators=50;, score=0.758 total time=   0.2s\n",
            "[CV 5/5] END ...................n_estimators=50;, score=0.909 total time=   0.2s\n",
            "[CV 1/5] END ..................n_estimators=100;, score=0.794 total time=   0.4s\n",
            "[CV 2/5] END ..................n_estimators=100;, score=0.758 total time=   0.4s\n",
            "[CV 3/5] END ..................n_estimators=100;, score=0.727 total time=   0.4s\n",
            "[CV 4/5] END ..................n_estimators=100;, score=0.697 total time=   0.4s\n",
            "[CV 5/5] END ..................n_estimators=100;, score=0.879 total time=   0.4s\n",
            "[CV 1/5] END ..................n_estimators=250;, score=0.794 total time=   0.9s\n",
            "[CV 2/5] END ..................n_estimators=250;, score=0.848 total time=   0.9s\n",
            "[CV 3/5] END ..................n_estimators=250;, score=0.727 total time=   0.9s\n",
            "[CV 4/5] END ..................n_estimators=250;, score=0.788 total time=   0.9s\n",
            "[CV 5/5] END ..................n_estimators=250;, score=0.818 total time=   0.6s\n",
            "[CV 1/5] END ..................n_estimators=300;, score=0.765 total time=   0.7s\n",
            "[CV 2/5] END ..................n_estimators=300;, score=0.848 total time=   0.7s\n",
            "[CV 3/5] END ..................n_estimators=300;, score=0.727 total time=   0.7s\n",
            "[CV 4/5] END ..................n_estimators=300;, score=0.788 total time=   0.7s\n",
            "[CV 5/5] END ..................n_estimators=300;, score=0.788 total time=   0.7s\n",
            "[CV 1/5] END ..................n_estimators=500;, score=0.794 total time=   1.1s\n",
            "[CV 2/5] END ..................n_estimators=500;, score=0.879 total time=   1.1s\n",
            "[CV 3/5] END ..................n_estimators=500;, score=0.758 total time=   1.1s\n",
            "[CV 4/5] END ..................n_estimators=500;, score=0.788 total time=   1.1s\n",
            "[CV 5/5] END ..................n_estimators=500;, score=0.788 total time=   1.1s\n"
          ]
        },
        {
          "output_type": "execute_result",
          "data": {
            "text/plain": [
              "GridSearchCV(cv=5,\n",
              "             estimator=AdaBoostClassifier(algorithm='SAMME',\n",
              "                                          learning_rate=0.05),\n",
              "             param_grid={'n_estimators': [50, 100, 250, 300, 500]}, verbose=4)"
            ]
          },
          "metadata": {},
          "execution_count": 84
        }
      ]
    },
    {
      "cell_type": "code",
      "source": [
        "classifier.cv_results_"
      ],
      "metadata": {
        "colab": {
          "base_uri": "https://localhost:8080/"
        },
        "id": "ahXqF8-4XOzo",
        "outputId": "15a9e9f0-f8d3-4040-f7fd-1d245cd851b4"
      },
      "execution_count": 86,
      "outputs": [
        {
          "output_type": "execute_result",
          "data": {
            "text/plain": [
              "{'mean_fit_time': array([0.20255256, 0.34199309, 0.80852184, 0.63133311, 1.0459887 ]),\n",
              " 'mean_score_time': array([0.01436167, 0.02222123, 0.04584718, 0.02802982, 0.04866443]),\n",
              " 'mean_test_score': array([0.77112299, 0.77094474, 0.79518717, 0.78324421, 0.80124777]),\n",
              " 'param_n_estimators': masked_array(data=[50, 100, 250, 300, 500],\n",
              "              mask=[False, False, False, False, False],\n",
              "        fill_value='?',\n",
              "             dtype=object),\n",
              " 'params': [{'n_estimators': 50},\n",
              "  {'n_estimators': 100},\n",
              "  {'n_estimators': 250},\n",
              "  {'n_estimators': 300},\n",
              "  {'n_estimators': 500}],\n",
              " 'rank_test_score': array([4, 5, 2, 3, 1], dtype=int32),\n",
              " 'split0_test_score': array([0.76470588, 0.79411765, 0.79411765, 0.76470588, 0.79411765]),\n",
              " 'split1_test_score': array([0.72727273, 0.75757576, 0.84848485, 0.84848485, 0.87878788]),\n",
              " 'split2_test_score': array([0.6969697 , 0.72727273, 0.72727273, 0.72727273, 0.75757576]),\n",
              " 'split3_test_score': array([0.75757576, 0.6969697 , 0.78787879, 0.78787879, 0.78787879]),\n",
              " 'split4_test_score': array([0.90909091, 0.87878788, 0.81818182, 0.78787879, 0.78787879]),\n",
              " 'std_fit_time': array([0.04871333, 0.0139411 , 0.10161615, 0.00396427, 0.00842408]),\n",
              " 'std_score_time': array([0.00210307, 0.00287394, 0.01296598, 0.0030079 , 0.00848871]),\n",
              " 'std_test_score': array([0.07304986, 0.06280988, 0.04009071, 0.03943546, 0.04081179])}"
            ]
          },
          "metadata": {},
          "execution_count": 86
        }
      ]
    },
    {
      "cell_type": "code",
      "source": [
        "classifier.best_params_, classifier.best_score_"
      ],
      "metadata": {
        "colab": {
          "base_uri": "https://localhost:8080/"
        },
        "id": "70zmRTpTYJoz",
        "outputId": "02694fb3-3107-48e0-84f2-3109ecb10ce1"
      },
      "execution_count": 88,
      "outputs": [
        {
          "output_type": "execute_result",
          "data": {
            "text/plain": [
              "({'n_estimators': 500}, 0.8012477718360073)"
            ]
          },
          "metadata": {},
          "execution_count": 88
        }
      ]
    },
    {
      "cell_type": "code",
      "source": [
        "abc = AdaBoostClassifier(learning_rate=0.05, n_estimators=500)\n",
        "abc.fit(X_train, y_train)\n",
        "pred13 = abc.predict(X_test)\n",
        "pred13"
      ],
      "metadata": {
        "colab": {
          "base_uri": "https://localhost:8080/"
        },
        "id": "dr17GTXjYOnD",
        "outputId": "073fb407-4023-4e00-8028-bf73d533727e"
      },
      "execution_count": 89,
      "outputs": [
        {
          "output_type": "execute_result",
          "data": {
            "text/plain": [
              "array(['R', 'M', 'M', 'M', 'M', 'M', 'M', 'R', 'M', 'M', 'R', 'M', 'M',\n",
              "       'R', 'R', 'R', 'M', 'M', 'M', 'M', 'M', 'M', 'M', 'R', 'R', 'R',\n",
              "       'R', 'M', 'R', 'M', 'R', 'M', 'R', 'M', 'M', 'M', 'M', 'M', 'M',\n",
              "       'M', 'M', 'R'], dtype=object)"
            ]
          },
          "metadata": {},
          "execution_count": 89
        }
      ]
    },
    {
      "cell_type": "code",
      "source": [
        "acc_score = round((accuracy_score(y_test,pred13))*100,3)\n",
        "print(acc_score,\"%\")"
      ],
      "metadata": {
        "colab": {
          "base_uri": "https://localhost:8080/"
        },
        "id": "vM-ZwwQlYvJy",
        "outputId": "894986e2-8e64-4faf-ad0e-cbaf61c12669"
      },
      "execution_count": 95,
      "outputs": [
        {
          "output_type": "stream",
          "name": "stdout",
          "text": [
            "80.952 %\n"
          ]
        }
      ]
    },
    {
      "cell_type": "code",
      "source": [
        ""
      ],
      "metadata": {
        "id": "JtStme6UY8Ze"
      },
      "execution_count": null,
      "outputs": []
    }
  ]
}